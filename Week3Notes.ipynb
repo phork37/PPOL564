{
 "cells": [
  {
   "cell_type": "markdown",
   "id": "673bb5bb",
   "metadata": {},
   "source": [
    "### Why Python for Data Science?\n",
    "\n",
    "OOP allows us to have additional control over data types and how data should flow. Can manage the properties within the object itself.\n",
    "\n",
    "Benefit is building class objects specifically to control how ML pipelines work, whereas R requires more checks for lowest-common demoninator errors.\n",
    "\n"
   ]
  },
  {
   "cell_type": "code",
   "execution_count": 6,
   "id": "a753d4e5",
   "metadata": {
    "scrolled": false
   },
   "outputs": [
    {
     "name": "stdout",
     "output_type": "stream",
     "text": [
      "['a', 'b', 'c', 'd', 'e', 'f', 'g']\n",
      "['abcdef', 'g']\n",
      "a\n",
      "b\n",
      "c\n",
      "d\n",
      "e\n",
      "f\n",
      "g\n"
     ]
    }
   ],
   "source": [
    "x = \"a b c d e f g\".split()\n",
    "print(x)\n",
    "\n",
    "y = \"abcdef*g\".split(\"*\")\n",
    "print(y)\n",
    "\n",
    "for i in x:\n",
    "    print(i)\n",
    "    "
   ]
  },
  {
   "cell_type": "markdown",
   "id": "f625babe",
   "metadata": {},
   "source": [
    "We're accessing a very specific call to the iterator, x.__init()__\n",
    "the for loop turns on this iterator and keeps calling it until it hits the condition to end the loop.\n",
    "\n",
    "Example: Panda iterates across the column space \"for no other reason than that's how the instructions for iteration are defined in the rules for their iterator.\"\n",
    "\n",
    "Boolean Values & Evaluations\n",
    " 1 == 2 #False\n",
    " 1 != 2 #True\n",
    "Evaluates parenthetical statements together, then evaluates other statements with the final result. \n",
    "Example: "
   ]
  },
  {
   "cell_type": "code",
   "execution_count": 15,
   "id": "8e5ad29f",
   "metadata": {},
   "outputs": [
    {
     "name": "stdout",
     "output_type": "stream",
     "text": [
      "False\n",
      "True\n",
      "False\n",
      "False\n",
      "True\n"
     ]
    }
   ],
   "source": [
    "print((1 <= 2 or 3 > 4) and 1 > 2)\n",
    "\n",
    "u = x\n",
    "\n",
    "# This asks do they have the same ID, versus are they the same object\n",
    "print(u is x)\n",
    "print(u is not x)\n",
    "print('z' in x) # False\n",
    "print('z' not in u)\n"
   ]
  },
  {
   "cell_type": "code",
   "execution_count": 16,
   "id": "f86fca24",
   "metadata": {},
   "outputs": [
    {
     "name": "stdout",
     "output_type": "stream",
     "text": [
      "Hello\n",
      "Hello\n",
      "Hello\n",
      "Hello\n",
      "wait\n",
      "wait\n",
      "wait\n",
      "bye\n",
      "bye\n",
      "bye\n"
     ]
    }
   ],
   "source": [
    "for i in [1,2,3,4,5,6,7,8,9,10]:\n",
    "    if i < 5:\n",
    "        print(\"Hello\")\n",
    "    elif i >=5 and i<=7:\n",
    "        print(\"wait\")\n",
    "    else:\n",
    "        print(\"bye\")"
   ]
  },
  {
   "cell_type": "code",
   "execution_count": 17,
   "id": "4fa95535",
   "metadata": {},
   "outputs": [
    {
     "name": "stdout",
     "output_type": "stream",
     "text": [
      "The Zen of Python, by Tim Peters\n",
      "\n",
      "Beautiful is better than ugly.\n",
      "Explicit is better than implicit.\n",
      "Simple is better than complex.\n",
      "Complex is better than complicated.\n",
      "Flat is better than nested.\n",
      "Sparse is better than dense.\n",
      "Readability counts.\n",
      "Special cases aren't special enough to break the rules.\n",
      "Although practicality beats purity.\n",
      "Errors should never pass silently.\n",
      "Unless explicitly silenced.\n",
      "In the face of ambiguity, refuse the temptation to guess.\n",
      "There should be one-- and preferably only one --obvious way to do it.\n",
      "Although that way may not be obvious at first unless you're Dutch.\n",
      "Now is better than never.\n",
      "Although never is often better than *right* now.\n",
      "If the implementation is hard to explain, it's a bad idea.\n",
      "If the implementation is easy to explain, it may be a good idea.\n",
      "Namespaces are one honking great idea -- let's do more of those!\n"
     ]
    }
   ],
   "source": [
    "import this\n"
   ]
  },
  {
   "cell_type": "code",
   "execution_count": 21,
   "id": "758dc2ce",
   "metadata": {},
   "outputs": [
    {
     "name": "stdout",
     "output_type": "stream",
     "text": [
      "0\n",
      "1\n",
      "2\n",
      "3\n",
      "4\n"
     ]
    }
   ],
   "source": [
    "#While loop example\n",
    "\n",
    "i = 0\n",
    "while i < 5:\n",
    "    print(i)\n",
    "    i = i+1"
   ]
  }
 ],
 "metadata": {
  "kernelspec": {
   "display_name": "Python 3",
   "language": "python",
   "name": "python3"
  },
  "language_info": {
   "codemirror_mode": {
    "name": "ipython",
    "version": 3
   },
   "file_extension": ".py",
   "mimetype": "text/x-python",
   "name": "python",
   "nbconvert_exporter": "python",
   "pygments_lexer": "ipython3",
   "version": "3.8.8"
  }
 },
 "nbformat": 4,
 "nbformat_minor": 5
}
