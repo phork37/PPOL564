{
 "cells": [
  {
   "cell_type": "markdown",
   "id": "01a778e2",
   "metadata": {},
   "source": [
    "## Tidy Data\n",
    "\n",
    "The same data can be represented in many ways, the first, essential question is \"what does a single row represent?\" \n",
    "Knowing what the data in partitioned on requires evaluating the data structurally and often unscrambling unintuitive organization schemes.\n",
    "Often, multiple data points can be placed into the same cell/space, can be more efficient (and storing more easily), but can also require further unpacking in future manipulations.\n",
    "Alternatively, data can be organized concisely in different tables that can then be merged together.\n",
    "\n",
    "Tidy is defined as\n",
    "1. Each variable must have its own column\n",
    "2. Each observations must have its own row (unique)\n",
    "3. Each value must have its own cell\n",
    "\n",
    "It is crucial to know the level of analysis.  Understanding the dataframe structurally and organizationally prevents a lot of the easiest to make mistakes and errors when it comes to building models and doing statistical inference. \n",
    "\n",
    "\"you're only as good as you're most aggregated data.\"\n",
    "\n",
    "IE if you have great data about crime data that is granular down to individual blocks in a city, but you only have crime statistics at the county level, the latter is your level of aggregation because that is as specific you can be.\n",
    "\n",
    "### Joining Dataframes\n",
    "\n",
    "Left Join = left_join(x,y)\n",
    "Right Join = right_join(x,y)\n",
    "\n",
    "\n",
    "Pandas:\n",
    "data_A.merge(data_B, how=\"left\", on=\"country\")\n",
    "\n",
    "What matters most is the fidelity of the keys and that we have a principle for how to handle missing values. Want it to be a null data point for whatever software rather than a substantive value (such as 0 or -9999)"
   ]
  },
  {
   "cell_type": "code",
   "execution_count": null,
   "id": "9dc715df",
   "metadata": {},
   "outputs": [],
   "source": []
  }
 ],
 "metadata": {
  "kernelspec": {
   "display_name": "Python 3",
   "language": "python",
   "name": "python3"
  },
  "language_info": {
   "codemirror_mode": {
    "name": "ipython",
    "version": 3
   },
   "file_extension": ".py",
   "mimetype": "text/x-python",
   "name": "python",
   "nbconvert_exporter": "python",
   "pygments_lexer": "ipython3",
   "version": "3.8.8"
  }
 },
 "nbformat": 4,
 "nbformat_minor": 5
}
