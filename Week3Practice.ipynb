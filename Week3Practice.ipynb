{
 "cells": [
  {
   "cell_type": "code",
   "execution_count": 2,
   "id": "438c44ff",
   "metadata": {},
   "outputs": [
    {
     "name": "stdout",
     "output_type": "stream",
     "text": [
      "An initial attempt to rescue the group, stranded in mountain refuge for two nights, was abandoned on Monday night because of smoke from the Creek Fire. But helicopters were able to land early on Tuesday and are have begun taking the hikers to safety. Fires in California have burned through a record 2m acres in recent weeks. In total, these blazes span an area larger than the US state of Delaware. California is currently experiencing an unprecedented heatwave.\n"
     ]
    }
   ],
   "source": [
    "text = \"An initial attempt to rescue the group, stranded in mountain refuge for two nights, was abandoned on Monday night because of smoke from the Creek Fire. But helicopters were able to land early on Tuesday and are have begun taking the hikers to safety. Fires in California have burned through a record 2m acres in recent weeks. In total, these blazes span an area larger than the US state of Delaware. California is currently experiencing an unprecedented heatwave.\"\n",
    "print(text)"
   ]
  },
  {
   "cell_type": "code",
   "execution_count": 3,
   "id": "c6c57caa",
   "metadata": {},
   "outputs": [
    {
     "data": {
      "text/plain": [
       "78"
      ]
     },
     "execution_count": 3,
     "metadata": {},
     "output_type": "execute_result"
    }
   ],
   "source": [
    "def word_count(text):\n",
    "    tmp = text.split(\" \")\n",
    "    count = len(tmp)\n",
    "    return count\n",
    "\n",
    "word_count(text)"
   ]
  },
  {
   "cell_type": "code",
   "execution_count": 4,
   "id": "72812248",
   "metadata": {},
   "outputs": [
    {
     "data": {
      "text/plain": [
       "38"
      ]
     },
     "execution_count": 4,
     "metadata": {},
     "output_type": "execute_result"
    }
   ],
   "source": [
    "def unique_words(text):\n",
    "    a = set(text)\n",
    "    count = len(a)\n",
    "    return count\n",
    "\n",
    "unique_words(text)"
   ]
  },
  {
   "cell_type": "code",
   "execution_count": 6,
   "id": "6fbb86cd",
   "metadata": {},
   "outputs": [
    {
     "data": {
      "text/plain": [
       "{'an': 3,\n",
       " 'initial': 1,\n",
       " 'attempt': 1,\n",
       " 'to': 3,\n",
       " 'rescue': 1,\n",
       " 'the': 4,\n",
       " 'group': 1,\n",
       " 'stranded': 1,\n",
       " 'in': 4,\n",
       " 'mountain': 1,\n",
       " 'refuge': 1,\n",
       " 'for': 1,\n",
       " 'two': 1,\n",
       " 'nights': 1,\n",
       " 'was': 1,\n",
       " 'abandoned': 1,\n",
       " 'on': 2,\n",
       " 'monday': 1,\n",
       " 'night': 1,\n",
       " 'because': 1,\n",
       " 'of': 2,\n",
       " 'smoke': 1,\n",
       " 'from': 1,\n",
       " 'creek': 1,\n",
       " 'fire': 1,\n",
       " 'but': 1,\n",
       " 'helicopters': 1,\n",
       " 'were': 1,\n",
       " 'able': 1,\n",
       " 'land': 1,\n",
       " 'early': 1,\n",
       " 'tuesday': 1,\n",
       " 'and': 1,\n",
       " 'are': 1,\n",
       " 'have': 2,\n",
       " 'begun': 1,\n",
       " 'taking': 1,\n",
       " 'hikers': 1,\n",
       " 'safety': 1,\n",
       " 'fires': 1,\n",
       " 'california': 2,\n",
       " 'burned': 1,\n",
       " 'through': 1,\n",
       " 'a': 1,\n",
       " 'record': 1,\n",
       " '2m': 1,\n",
       " 'acres': 1,\n",
       " 'recent': 1,\n",
       " 'weeks': 1,\n",
       " 'total': 1,\n",
       " 'these': 1,\n",
       " 'blazes': 1,\n",
       " 'span': 1,\n",
       " 'area': 1,\n",
       " 'larger': 1,\n",
       " 'than': 1,\n",
       " 'us': 1,\n",
       " 'state': 1,\n",
       " 'delaware': 1,\n",
       " 'is': 1,\n",
       " 'currently': 1,\n",
       " 'experiencing': 1,\n",
       " 'unprecedented': 1,\n",
       " 'heatwave': 1}"
      ]
     },
     "execution_count": 6,
     "metadata": {},
     "output_type": "execute_result"
    }
   ],
   "source": [
    "def usage_count(text):\n",
    "    words = text.split()\n",
    "    word_count = {}\n",
    "    for word in words:\n",
    "        word = word.lower()\n",
    "        word = word.replace(\".\", \"\")\n",
    "        word = word.replace(\",\", \"\")\n",
    "        if word in word_count.keys():\n",
    "            word_count[word] += 1\n",
    "        else:\n",
    "            word_count[word] = 1\n",
    "    return word_count\n",
    "\n",
    "usage_count(text)"
   ]
  }
 ],
 "metadata": {
  "kernelspec": {
   "display_name": "Python 3",
   "language": "python",
   "name": "python3"
  },
  "language_info": {
   "codemirror_mode": {
    "name": "ipython",
    "version": 3
   },
   "file_extension": ".py",
   "mimetype": "text/x-python",
   "name": "python",
   "nbconvert_exporter": "python",
   "pygments_lexer": "ipython3",
   "version": "3.8.8"
  }
 },
 "nbformat": 4,
 "nbformat_minor": 5
}
