{
 "cells": [
  {
   "cell_type": "markdown",
   "id": "ab49a3d7",
   "metadata": {},
   "source": [
    "## Week 5: From Nested Lists to Data Frames\n",
    "\n",
    "\n",
    "Numpy allows us to work efficiently with arrays and underpin the dataframes from Pandas.\n",
    "Numpy uses strict type setting so Python knows exactly what it is dealing with, making it faster and easier.\n",
    "Even when we analyze images or text, were using numbers to do so.\n",
    "An image is reduced numerically to multi-dimensional arrays where numbers depict color, brightness, etc."
   ]
  },
  {
   "cell_type": "code",
   "execution_count": 45,
   "id": "b268a4a2",
   "metadata": {},
   "outputs": [],
   "source": [
    "import numpy as np \n",
    "import math\n",
    "import pandas as pd"
   ]
  },
  {
   "cell_type": "code",
   "execution_count": 2,
   "id": "8060088a",
   "metadata": {},
   "outputs": [
    {
     "data": {
      "text/plain": [
       "array([[ 2.8, -0.9],\n",
       "       [-1. , -1.2],\n",
       "       [-0.8, -0.3],\n",
       "       [-0.3,  2.3],\n",
       "       [-0.6, -2.4]])"
      ]
     },
     "execution_count": 2,
     "metadata": {},
     "output_type": "execute_result"
    }
   ],
   "source": [
    "# generate 10 random numbers as a one-dimensional array, \n",
    "# reshape it to have 5 rows (-1 means 'give it whatever columns make sense with 5 rows')\n",
    "# then round the results to the tenth value.\n",
    "m1 = np.random.randn(10).reshape(5,-1).round(1)\n",
    "m1"
   ]
  },
  {
   "cell_type": "code",
   "execution_count": 3,
   "id": "16e14089",
   "metadata": {},
   "outputs": [],
   "source": [
    "m2 = np.random.poisson(1,10).reshape(5,-1)"
   ]
  },
  {
   "cell_type": "code",
   "execution_count": 6,
   "id": "d01ce279",
   "metadata": {},
   "outputs": [
    {
     "data": {
      "text/plain": [
       "array([[ 2.8, -0.9],\n",
       "       [-1. , -1.2],\n",
       "       [-0.8, -0.3],\n",
       "       [-0.3,  2.3],\n",
       "       [-0.6, -2.4],\n",
       "       [ 0. ,  0. ],\n",
       "       [ 1. ,  0. ],\n",
       "       [ 0. ,  0. ],\n",
       "       [ 1. ,  0. ],\n",
       "       [ 0. ,  1. ]])"
      ]
     },
     "execution_count": 6,
     "metadata": {},
     "output_type": "execute_result"
    }
   ],
   "source": [
    "# input is two matrices in a single nested list\n",
    "# axis=0 adds them by row, effectively stacking the two.\n",
    "np.concatenate([m1,m2],axis=0)\n",
    "\n",
    "# equivalent to above\n",
    "np.vstack([m1,m2])"
   ]
  },
  {
   "cell_type": "code",
   "execution_count": 5,
   "id": "3b49442c",
   "metadata": {},
   "outputs": [
    {
     "data": {
      "text/plain": [
       "array([[ 2.8, -0.9,  0. ,  0. ],\n",
       "       [-1. , -1.2,  1. ,  0. ],\n",
       "       [-0.8, -0.3,  0. ,  0. ],\n",
       "       [-0.3,  2.3,  1. ,  0. ],\n",
       "       [-0.6, -2.4,  0. ,  1. ]])"
      ]
     },
     "execution_count": 5,
     "metadata": {},
     "output_type": "execute_result"
    }
   ],
   "source": [
    "# axis=1 adds them by column, expands the column space\n",
    "np.concatenate([m1,m2],axis=1)\n",
    "\n",
    "# equivalent to above\n",
    "M = np.hstack([m1,m2])\n",
    "M"
   ]
  },
  {
   "cell_type": "markdown",
   "id": "1ad6220d",
   "metadata": {},
   "source": [
    "### Views & Copies\n",
    "Note that when we slice an array we **_do not copy the array_**, rather we get a \"**view**\" of the array. \n"
   ]
  },
  {
   "cell_type": "code",
   "execution_count": 9,
   "id": "2a53fc2c",
   "metadata": {},
   "outputs": [
    {
     "data": {
      "text/plain": [
       "[1, 2, 100]"
      ]
     },
     "execution_count": 9,
     "metadata": {},
     "output_type": "execute_result"
    }
   ],
   "source": [
    "x = [1,2,3]\n",
    "y = x\n",
    "y[2] = 100\n",
    "x"
   ]
  },
  {
   "cell_type": "code",
   "execution_count": 10,
   "id": "1c9be21e",
   "metadata": {},
   "outputs": [
    {
     "data": {
      "text/plain": [
       "[1, 2, 100]"
      ]
     },
     "execution_count": 10,
     "metadata": {},
     "output_type": "execute_result"
    }
   ],
   "source": [
    "# We can get around this behavior by making copies. \n",
    "# One way to make a copy is to slice\n",
    "y = x[:]\n",
    "y[2] = -999\n",
    "x"
   ]
  },
  {
   "cell_type": "code",
   "execution_count": 11,
   "id": "600e56b6",
   "metadata": {},
   "outputs": [
    {
     "data": {
      "text/plain": [
       "array([[1., 1., 1., 1., 1.],\n",
       "       [1., 1., 1., 1., 1.],\n",
       "       [1., 1., 1., 1., 1.],\n",
       "       [1., 1., 1., 1., 1.],\n",
       "       [1., 1., 1., 1., 1.]])"
      ]
     },
     "execution_count": 11,
     "metadata": {},
     "output_type": "execute_result"
    }
   ],
   "source": [
    "P = np.ones((5,5))\n",
    "P"
   ]
  },
  {
   "cell_type": "code",
   "execution_count": 12,
   "id": "aa3fc266",
   "metadata": {},
   "outputs": [
    {
     "data": {
      "text/plain": [
       "array([[1., 1.],\n",
       "       [1., 1.]])"
      ]
     },
     "execution_count": 12,
     "metadata": {},
     "output_type": "execute_result"
    }
   ],
   "source": [
    "g = P[:2,:2] \n",
    "g"
   ]
  },
  {
   "cell_type": "code",
   "execution_count": 13,
   "id": "40915bbd",
   "metadata": {},
   "outputs": [
    {
     "data": {
      "text/plain": [
       "array([[101., 101.],\n",
       "       [101., 101.]])"
      ]
     },
     "execution_count": 13,
     "metadata": {},
     "output_type": "execute_result"
    }
   ],
   "source": [
    "g += 100\n",
    "g"
   ]
  },
  {
   "cell_type": "code",
   "execution_count": 14,
   "id": "cf9dd954",
   "metadata": {},
   "outputs": [
    {
     "data": {
      "text/plain": [
       "array([[101., 101.,   1.,   1.,   1.],\n",
       "       [101., 101.,   1.,   1.,   1.],\n",
       "       [  1.,   1.,   1.,   1.,   1.],\n",
       "       [  1.,   1.,   1.,   1.,   1.],\n",
       "       [  1.,   1.,   1.,   1.,   1.]])"
      ]
     },
     "execution_count": 14,
     "metadata": {},
     "output_type": "execute_result"
    }
   ],
   "source": [
    "P"
   ]
  },
  {
   "cell_type": "code",
   "execution_count": 15,
   "id": "26dece6e",
   "metadata": {},
   "outputs": [
    {
     "data": {
      "text/plain": [
       "array([[-899., -899.],\n",
       "       [-899., -899.]])"
      ]
     },
     "execution_count": 15,
     "metadata": {},
     "output_type": "execute_result"
    }
   ],
   "source": [
    "g2 = P[:2,:2].copy()\n",
    "g2 -= 1000\n",
    "g2"
   ]
  },
  {
   "cell_type": "code",
   "execution_count": 16,
   "id": "dcd3e50f",
   "metadata": {},
   "outputs": [
    {
     "data": {
      "text/plain": [
       "array([[101., 101.,   1.,   1.,   1.],\n",
       "       [101., 101.,   1.,   1.,   1.],\n",
       "       [  1.,   1.,   1.,   1.,   1.],\n",
       "       [  1.,   1.,   1.,   1.,   1.],\n",
       "       [  1.,   1.,   1.,   1.,   1.]])"
      ]
     },
     "execution_count": 16,
     "metadata": {},
     "output_type": "execute_result"
    }
   ],
   "source": [
    "P"
   ]
  },
  {
   "cell_type": "markdown",
   "id": "8100a25f",
   "metadata": {},
   "source": [
    "### Broadcasting\n",
    "\n",
    "Broadcasting makes it possible for operations to be performed on arrays of mismatched shapes.\n",
    "\n",
    "Broadcasting describes how numpy treats arrays with different shapes during arithmetic operations. Subject to certain constraints, the smaller array is \"broadcast\" across the larger array so that they have compatible shapes.\n",
    "\n",
    "Previously, if we wanted to take a list of numbers and add 5 to each value, we would need to loop through and pull out each iteration, make the addition, and then put it back.\n",
    "\n",
    "Instead, vectorization allows the addition process to occur across the vector simultaneous by making the addition fit the matrix structure and then completing the computation. We didn't have to create something in memory of equal value to complete the task.\n",
    "\n",
    "By 'broadcast', we mean that the smaller array is made to match the size of the larger array in order to allow for element-wise manipulations.\n",
    "\n",
    "### How it works:\n",
    "\n",
    "- Shapes of the two arrays are compared _element-wise_. \n",
    "- Dimensions are considered in reverse order, starting with the trailing dimensions, and working forward \n",
    "- We are stretching the smaller array by making copies of its elements. `numpy` does not actually duplicate the smaller array; instead, it makes computationally efficient use of existing structures in memory that achieve the same result.\n",
    "\n",
    "A general **Rule of thumb**: All corresponding dimension of the arrays must be compatible or one of the two dimensions is 1.\n",
    "\n",
    "Dimension disagreement is when the shapes don't allow for broadcasting operations."
   ]
  },
  {
   "cell_type": "code",
   "execution_count": 17,
   "id": "60b8ba7e",
   "metadata": {},
   "outputs": [
    {
     "data": {
      "text/plain": [
       "array([ 6,  7,  8,  9, 10])"
      ]
     },
     "execution_count": 17,
     "metadata": {},
     "output_type": "execute_result"
    }
   ],
   "source": [
    "A = np.array([1,2,3,4,5])\n",
    "A + 5"
   ]
  },
  {
   "cell_type": "markdown",
   "id": "fab96586",
   "metadata": {},
   "source": [
    "Broadcasting in NumPy follows a strict set of rules to determine the interaction between the two arrays (from [reading](https://jakevdp.github.io/PythonDataScienceHandbook/02.05-computation-on-arrays-broadcasting.html)):\n",
    "\n",
    "\n",
    "### Rule 1\n",
    "> If the two arrays differ in their number of dimensions, the shape of the one with fewer dimensions is padded with ones on its leading (left) side.\n",
    "\n",
    "### Rule 2\n",
    "\n",
    "> If the shape of the two arrays does not match in any dimension, the array with shape equal to 1 in that dimension is stretched to match the other shape.\n",
    "\n",
    "### Rule 3 \n",
    "\n",
    "> If in any dimension the sizes disagree and neither is equal to 1, an error is raised."
   ]
  },
  {
   "cell_type": "code",
   "execution_count": 20,
   "id": "6d2f3dd0",
   "metadata": {},
   "outputs": [
    {
     "data": {
      "text/plain": [
       "array([5, 6, 7])"
      ]
     },
     "execution_count": 20,
     "metadata": {},
     "output_type": "execute_result"
    }
   ],
   "source": [
    "# a-range works the same way as range in base python\n",
    "# starts with 0\n",
    "np.arange(3) + 5"
   ]
  },
  {
   "cell_type": "code",
   "execution_count": 21,
   "id": "b17c3d59",
   "metadata": {},
   "outputs": [
    {
     "data": {
      "text/plain": [
       "array([[1., 2., 3.],\n",
       "       [1., 2., 3.],\n",
       "       [1., 2., 3.]])"
      ]
     },
     "execution_count": 21,
     "metadata": {},
     "output_type": "execute_result"
    }
   ],
   "source": [
    "np.ones((3,3)) + np.arange(3)\n",
    "# this is an element wise add, \n",
    "# so the broadcasting is turning np.arange(3) which is [0,1,2]\n",
    "# and is making it a 3x3 matrix to complete the operation"
   ]
  },
  {
   "cell_type": "markdown",
   "id": "b0fed0fd",
   "metadata": {},
   "source": [
    "### Vectorization\n",
    "\n",
    "Similar to broadcasting, vectorization allows for simultaneous computation along all values in the array. "
   ]
  },
  {
   "cell_type": "code",
   "execution_count": 22,
   "id": "89a8fd5b",
   "metadata": {},
   "outputs": [
    {
     "data": {
      "text/plain": [
       "array([[7, 5, 9, 8, 4],\n",
       "       [4, 7, 5, 6, 6],\n",
       "       [5, 4, 9, 8, 2],\n",
       "       [9, 5, 5, 8, 8],\n",
       "       [5, 7, 6, 8, 7],\n",
       "       [9, 1, 4, 4, 7],\n",
       "       [7, 3, 3, 6, 2],\n",
       "       [8, 2, 8, 8, 2],\n",
       "       [7, 8, 5, 2, 2],\n",
       "       [8, 5, 9, 4, 7]])"
      ]
     },
     "execution_count": 22,
     "metadata": {},
     "output_type": "execute_result"
    }
   ],
   "source": [
    "# randint(lower bound, upper bound, 50 instances)\n",
    "X = np.random.randint(1,10,50).reshape(10,5)\n",
    "X"
   ]
  },
  {
   "cell_type": "code",
   "execution_count": null,
   "id": "2e73b3bd",
   "metadata": {},
   "outputs": [],
   "source": [
    "np.log(X)"
   ]
  },
  {
   "cell_type": "markdown",
   "id": "382d36d6",
   "metadata": {},
   "source": [
    "The computations are performed on each element in the array _simultaneously_. \n",
    "\n",
    "> \"When looping over an array or any data structure in Python, there’s a lot of overhead involved. Vectorized operations in `numpy` delegate the looping internally to highly optimized `C` and `Fortran` functions, making for cleaner and faster Python code.\" - [RealPython](https://realpython.com/numpy-array-programming/)"
   ]
  },
  {
   "cell_type": "code",
   "execution_count": 23,
   "id": "3a0f77e9",
   "metadata": {},
   "outputs": [
    {
     "data": {
      "text/plain": [
       "[[1.9459101490553132,\n",
       "  1.6094379124341003,\n",
       "  2.1972245773362196,\n",
       "  2.0794415416798357,\n",
       "  1.3862943611198906],\n",
       " [1.3862943611198906,\n",
       "  1.9459101490553132,\n",
       "  1.6094379124341003,\n",
       "  1.791759469228055,\n",
       "  1.791759469228055],\n",
       " [1.6094379124341003,\n",
       "  1.3862943611198906,\n",
       "  2.1972245773362196,\n",
       "  2.0794415416798357,\n",
       "  0.6931471805599453],\n",
       " [2.1972245773362196,\n",
       "  1.6094379124341003,\n",
       "  1.6094379124341003,\n",
       "  2.0794415416798357,\n",
       "  2.0794415416798357],\n",
       " [1.6094379124341003,\n",
       "  1.9459101490553132,\n",
       "  1.791759469228055,\n",
       "  2.0794415416798357,\n",
       "  1.9459101490553132],\n",
       " [2.1972245773362196,\n",
       "  0.0,\n",
       "  1.3862943611198906,\n",
       "  1.3862943611198906,\n",
       "  1.9459101490553132],\n",
       " [1.9459101490553132,\n",
       "  1.0986122886681098,\n",
       "  1.0986122886681098,\n",
       "  1.791759469228055,\n",
       "  0.6931471805599453],\n",
       " [2.0794415416798357,\n",
       "  0.6931471805599453,\n",
       "  2.0794415416798357,\n",
       "  2.0794415416798357,\n",
       "  0.6931471805599453],\n",
       " [1.9459101490553132,\n",
       "  2.0794415416798357,\n",
       "  1.6094379124341003,\n",
       "  0.6931471805599453,\n",
       "  0.6931471805599453],\n",
       " [2.0794415416798357,\n",
       "  1.6094379124341003,\n",
       "  2.1972245773362196,\n",
       "  1.3862943611198906,\n",
       "  1.9459101490553132]]"
      ]
     },
     "execution_count": 23,
     "metadata": {},
     "output_type": "execute_result"
    }
   ],
   "source": [
    "X2 = X.tolist()\n",
    "n_rows = len(X2)\n",
    "n_cols = len(X2[0])\n",
    "for i in range(n_rows):\n",
    "    for j in range(n_cols):\n",
    "        X2[i][j] = math.log(X2[i][j])\n",
    "X2\n",
    "\n",
    "# in this i is pulling out the specific row and then j is the value in the list, like individual cars of a train\n",
    "# however we can do this more efficiently thanks to vectorization"
   ]
  },
  {
   "cell_type": "code",
   "execution_count": 24,
   "id": "9eabdcd7",
   "metadata": {},
   "outputs": [
    {
     "data": {
      "text/plain": [
       "array([1, 2, 6, 7, 8])"
      ]
     },
     "execution_count": 24,
     "metadata": {},
     "output_type": "execute_result"
    }
   ],
   "source": [
    "# Instead, we can do something like this that doesn't require all of the looping and iterating\n",
    "\n",
    "# Locate the absolute value for an array\n",
    "np.abs([1,2,-6,7,8])"
   ]
  },
  {
   "cell_type": "markdown",
   "id": "22e64a91",
   "metadata": {},
   "source": [
    "Vectorization across array dimensions\n",
    "\n",
    "The universal functions constructed in Python come with an axis argument that outlines how the function should be applied\n"
   ]
  },
  {
   "cell_type": "code",
   "execution_count": 28,
   "id": "85fc21a6",
   "metadata": {},
   "outputs": [
    {
     "data": {
      "text/plain": [
       "array([[1, 9, 5, 1, 8],\n",
       "       [2, 3, 7, 3, 8],\n",
       "       [7, 9, 9, 4, 9],\n",
       "       [9, 5, 2, 4, 4],\n",
       "       [1, 4, 4, 5, 7],\n",
       "       [1, 6, 1, 9, 7],\n",
       "       [7, 2, 3, 6, 7],\n",
       "       [1, 6, 6, 9, 5],\n",
       "       [3, 6, 1, 8, 3],\n",
       "       [3, 4, 7, 2, 2],\n",
       "       [3, 6, 8, 7, 4],\n",
       "       [5, 6, 5, 8, 6],\n",
       "       [1, 4, 8, 5, 6],\n",
       "       [8, 9, 6, 4, 5],\n",
       "       [4, 4, 2, 9, 5],\n",
       "       [5, 3, 3, 7, 8],\n",
       "       [2, 9, 3, 4, 3],\n",
       "       [4, 4, 1, 6, 2],\n",
       "       [3, 9, 3, 6, 6],\n",
       "       [7, 5, 4, 8, 5]])"
      ]
     },
     "execution_count": 28,
     "metadata": {},
     "output_type": "execute_result"
    }
   ],
   "source": [
    "A = np.random.randint(1,10,100).reshape(20,5)\n",
    "A\n"
   ]
  },
  {
   "cell_type": "code",
   "execution_count": 32,
   "id": "5b6d811e",
   "metadata": {},
   "outputs": [
    {
     "data": {
      "text/plain": [
       "array([3.85, 5.65, 4.4 , 5.75, 5.5 ])"
      ]
     },
     "execution_count": 32,
     "metadata": {},
     "output_type": "execute_result"
    }
   ],
   "source": [
    "# across columns\n",
    "A.mean(axis=0)"
   ]
  },
  {
   "cell_type": "code",
   "execution_count": 29,
   "id": "03f968a4",
   "metadata": {},
   "outputs": [
    {
     "data": {
      "text/plain": [
       "5.03"
      ]
     },
     "execution_count": 29,
     "metadata": {},
     "output_type": "execute_result"
    }
   ],
   "source": [
    "A.mean()"
   ]
  },
  {
   "cell_type": "code",
   "execution_count": 30,
   "id": "e7e8d320",
   "metadata": {},
   "outputs": [
    {
     "data": {
      "text/plain": [
       "array([4.8, 4.6, 7.6, 4.8, 4.2, 4.8, 5. , 5.4, 4.2, 3.6, 5.6, 6. , 4.8,\n",
       "       6.4, 4.8, 5.2, 4.2, 3.4, 5.4, 5.8])"
      ]
     },
     "execution_count": 30,
     "metadata": {},
     "output_type": "execute_result"
    }
   ],
   "source": [
    "A.mean(axis=1)"
   ]
  },
  {
   "cell_type": "code",
   "execution_count": 33,
   "id": "7bcb2a1e",
   "metadata": {},
   "outputs": [],
   "source": [
    "def bigsmall(a,b):\n",
    "    if a > b:\n",
    "        return \"A is larger\"\n",
    "    else:\n",
    "        return \"B is larger\""
   ]
  },
  {
   "cell_type": "code",
   "execution_count": 34,
   "id": "4e274468",
   "metadata": {},
   "outputs": [
    {
     "data": {
      "text/plain": [
       "'B is larger'"
      ]
     },
     "execution_count": 34,
     "metadata": {},
     "output_type": "execute_result"
    }
   ],
   "source": [
    "bigsmall(5,6)"
   ]
  },
  {
   "cell_type": "code",
   "execution_count": 35,
   "id": "e0b05c2d",
   "metadata": {},
   "outputs": [
    {
     "data": {
      "text/plain": [
       "'A is larger'"
      ]
     },
     "execution_count": 35,
     "metadata": {},
     "output_type": "execute_result"
    }
   ],
   "source": [
    "bigsmall(6,5)"
   ]
  },
  {
   "cell_type": "markdown",
   "id": "a17a1434",
   "metadata": {},
   "source": [
    "While a trite example, we can then vectorize this function, assign it to a new object np.vectorize, and that function can then apply to arrays"
   ]
  },
  {
   "cell_type": "code",
   "execution_count": 36,
   "id": "eb62d251",
   "metadata": {},
   "outputs": [
    {
     "data": {
      "text/plain": [
       "<numpy.vectorize at 0x7fac84465bb0>"
      ]
     },
     "execution_count": 36,
     "metadata": {},
     "output_type": "execute_result"
    }
   ],
   "source": [
    "# Create a vectorized version of the function\n",
    "vec_bigsmall = np.vectorize(bigsmall)\n",
    "vec_bigsmall "
   ]
  },
  {
   "cell_type": "code",
   "execution_count": 37,
   "id": "42664fb0",
   "metadata": {},
   "outputs": [
    {
     "data": {
      "text/plain": [
       "array(['B is larger', 'B is larger', 'B is larger', 'A is larger',\n",
       "       'B is larger'], dtype='<U11')"
      ]
     },
     "execution_count": 37,
     "metadata": {},
     "output_type": "execute_result"
    }
   ],
   "source": [
    "# And now implement on arrays of numbers!\n",
    "vec_bigsmall([0,2,5,7,0],[4,3,10,2,6])"
   ]
  },
  {
   "cell_type": "markdown",
   "id": "a012ff91",
   "metadata": {},
   "source": [
    "Typically, numpy arrays expect one data type to be able to process all of these functions efficiently and more effectively, but we can convert across types at the array level via\n",
    "\n",
    "x.astype('f') # changes to a float"
   ]
  },
  {
   "cell_type": "code",
   "execution_count": 38,
   "id": "87ef4e25",
   "metadata": {},
   "outputs": [
    {
     "data": {
      "text/plain": [
       "array([[1., 9., 5., 1., 8.],\n",
       "       [2., 3., 7., 3., 8.],\n",
       "       [7., 9., 9., 4., 9.],\n",
       "       [9., 5., 2., 4., 4.],\n",
       "       [1., 4., 4., 5., 7.],\n",
       "       [1., 6., 1., 9., 7.],\n",
       "       [7., 2., 3., 6., 7.],\n",
       "       [1., 6., 6., 9., 5.],\n",
       "       [3., 6., 1., 8., 3.],\n",
       "       [3., 4., 7., 2., 2.],\n",
       "       [3., 6., 8., 7., 4.],\n",
       "       [5., 6., 5., 8., 6.],\n",
       "       [1., 4., 8., 5., 6.],\n",
       "       [8., 9., 6., 4., 5.],\n",
       "       [4., 4., 2., 9., 5.],\n",
       "       [5., 3., 3., 7., 8.],\n",
       "       [2., 9., 3., 4., 3.],\n",
       "       [4., 4., 1., 6., 2.],\n",
       "       [3., 9., 3., 6., 6.],\n",
       "       [7., 5., 4., 8., 5.]], dtype=float32)"
      ]
     },
     "execution_count": 38,
     "metadata": {},
     "output_type": "execute_result"
    }
   ],
   "source": [
    "A.astype('f') # changes to a float"
   ]
  },
  {
   "cell_type": "code",
   "execution_count": 39,
   "id": "f697468c",
   "metadata": {},
   "outputs": [
    {
     "data": {
      "text/plain": [
       "[['a', 'b', 'c'], [1, 2, 3], [0.3, 0.55, 1.2]]"
      ]
     },
     "execution_count": 39,
     "metadata": {},
     "output_type": "execute_result"
    }
   ],
   "source": [
    "nested_list = [['a','b','c'],[1,2,3],[.3,.55,1.2]]\n",
    "nested_list"
   ]
  },
  {
   "cell_type": "code",
   "execution_count": 40,
   "id": "44ad1daa",
   "metadata": {},
   "outputs": [
    {
     "data": {
      "text/plain": [
       "array([['a', '1', '0.3'],\n",
       "       ['b', '2', '0.55'],\n",
       "       ['c', '3', '1.2']], dtype='<U32')"
      ]
     },
     "execution_count": 40,
     "metadata": {},
     "output_type": "execute_result"
    }
   ],
   "source": [
    "data = np.array(nested_list).T\n",
    "data"
   ]
  },
  {
   "cell_type": "markdown",
   "id": "0a1fd7cb",
   "metadata": {},
   "source": [
    "Above, we see how transforming from a nested list to an array, the \"lowest common denom\" of the string data type. Below, we see an example of the required formatting to keep track of different data types for each array, but this is where we shift to Pandas to use Series and Dataframes instead."
   ]
  },
  {
   "cell_type": "code",
   "execution_count": 43,
   "id": "b5d5f6fb",
   "metadata": {},
   "outputs": [
    {
     "data": {
      "text/plain": [
       "array([('a', 1, 0.3 ), ('b', 2, 0.55), ('c', 3, 1.2 )],\n",
       "      dtype=[('v1', '<U5'), ('v2', '<i4'), ('v3', '<f4')])"
      ]
     },
     "execution_count": 43,
     "metadata": {},
     "output_type": "execute_result"
    }
   ],
   "source": [
    "data = np.zeros((3), dtype={'names':('v1', 'v2', 'v3'),\n",
    "                            'formats':('U5', 'i', 'f')})\n",
    "data\n",
    "data['v1'] = ['a','b','c']\n",
    "data['v2'] = [1,2,3]\n",
    "data['v3'] = [.3,.55,1.2]\n",
    "data"
   ]
  },
  {
   "cell_type": "markdown",
   "id": "2473c4dc",
   "metadata": {},
   "source": [
    "# Pandas\n",
    "\n",
    "Pandas uses the flexibility and efficiency of numpy, but can deal with heterogenous data types much more effectively.\n",
    "\n",
    "A `pandas` series is a one-dimensional labeled array capable of holding heterogeneous data types (e.g. integer, boolean, strings, etc.). The axis in a series as \"index\" --- similar to a list or `numpy` array--- however, we can use other data types to serve as an index, which allows for some powerful ways for manipulating the array. At it's core, a `Pandas` `Series` is nothing but a column in an excel sheet or an `R` `data.frame`. "
   ]
  },
  {
   "cell_type": "code",
   "execution_count": 46,
   "id": "b754d025",
   "metadata": {},
   "outputs": [
    {
     "data": {
      "text/plain": [
       "0    g\n",
       "1    e\n",
       "2    o\n",
       "3    r\n",
       "4    g\n",
       "5    e\n",
       "6    t\n",
       "7    o\n",
       "8    w\n",
       "9    n\n",
       "dtype: object"
      ]
     },
     "execution_count": 46,
     "metadata": {},
     "output_type": "execute_result"
    }
   ],
   "source": [
    "s = pd.Series(list(\"georgetown\"))\n",
    "s"
   ]
  },
  {
   "cell_type": "code",
   "execution_count": 51,
   "id": "0d6888a1",
   "metadata": {},
   "outputs": [
    {
     "data": {
      "text/plain": [
       "g    0\n",
       "g    4\n",
       "dtype: int64"
      ]
     },
     "execution_count": 51,
     "metadata": {},
     "output_type": "execute_result"
    }
   ],
   "source": [
    "s.index\n",
    "# this by default inserts the iterative range assigned to the above series\n",
    "s[2]\n",
    "# we can have control over what the index is\n",
    "s2 = pd.Series([i for i in range(10)], index=list('georgetown'))\n",
    "s2['g']\n",
    "# because we set the index as the characters of 'georgetown' we can look up by the key of the letters as index\n",
    "# returns both instances of g, this would have been an issue for dictionary datatype, but not a Series"
   ]
  },
  {
   "cell_type": "markdown",
   "id": "e433ab2d",
   "metadata": {},
   "source": [
    "## DataFrame\n",
    "\n",
    "A pandas DataFrame is a two dimensional, relational data structure with the capacity to handle heterogeneous data types.\n",
    "\n",
    "    \"relational\" = each column value contained within a row entry corresponds with the same observation.\n",
    "    \"two dimensional\" = a matrix data structure (no 𝑁\n",
    "\n",
    "    -dimensional arrays). The data construct can be accessed through row/column indices.\n",
    "    \"heterogeneous\" = different data types can be contained within each column series. This means, for example, string, integer, and boolean values can coexist in the same data structure and retain the specific properties of their data type class.\n",
    "\n",
    "Put simply, a DataFrame is a collection of pandas series where each index position corresponds to the same observation. To be explicit, let's peek under the hood and look at the object construction\n",
    "Constructor\n",
    "\n",
    "To create a pandas DataFrame, we call the pd.DataFrame() constructor.\n",
    "Construction using dict()\n",
    "\n",
    "As input, we need to feed in a dictionary, where the keys are the column names and the values are the relational data input.\n",
    "\n",
    "Data must be relational. If the dimensions do not align, an error will be thrown."
   ]
  },
  {
   "cell_type": "code",
   "execution_count": 52,
   "id": "46f3fa2f",
   "metadata": {},
   "outputs": [
    {
     "data": {
      "text/html": [
       "<div>\n",
       "<style scoped>\n",
       "    .dataframe tbody tr th:only-of-type {\n",
       "        vertical-align: middle;\n",
       "    }\n",
       "\n",
       "    .dataframe tbody tr th {\n",
       "        vertical-align: top;\n",
       "    }\n",
       "\n",
       "    .dataframe thead th {\n",
       "        text-align: right;\n",
       "    }\n",
       "</style>\n",
       "<table border=\"1\" class=\"dataframe\">\n",
       "  <thead>\n",
       "    <tr style=\"text-align: right;\">\n",
       "      <th></th>\n",
       "      <th>A</th>\n",
       "      <th>B</th>\n",
       "      <th>C</th>\n",
       "    </tr>\n",
       "  </thead>\n",
       "  <tbody>\n",
       "    <tr>\n",
       "      <th>0</th>\n",
       "      <td>1</td>\n",
       "      <td>2.0</td>\n",
       "      <td>a</td>\n",
       "    </tr>\n",
       "    <tr>\n",
       "      <th>1</th>\n",
       "      <td>2</td>\n",
       "      <td>3.0</td>\n",
       "      <td>b</td>\n",
       "    </tr>\n",
       "    <tr>\n",
       "      <th>2</th>\n",
       "      <td>3</td>\n",
       "      <td>1.0</td>\n",
       "      <td>c</td>\n",
       "    </tr>\n",
       "    <tr>\n",
       "      <th>3</th>\n",
       "      <td>4</td>\n",
       "      <td>0.3</td>\n",
       "      <td>d</td>\n",
       "    </tr>\n",
       "    <tr>\n",
       "      <th>4</th>\n",
       "      <td>5</td>\n",
       "      <td>4.0</td>\n",
       "      <td>e</td>\n",
       "    </tr>\n",
       "    <tr>\n",
       "      <th>5</th>\n",
       "      <td>6</td>\n",
       "      <td>1.0</td>\n",
       "      <td>f</td>\n",
       "    </tr>\n",
       "  </tbody>\n",
       "</table>\n",
       "</div>"
      ],
      "text/plain": [
       "   A    B  C\n",
       "0  1  2.0  a\n",
       "1  2  3.0  b\n",
       "2  3  1.0  c\n",
       "3  4  0.3  d\n",
       "4  5  4.0  e\n",
       "5  6  1.0  f"
      ]
     },
     "execution_count": 52,
     "metadata": {},
     "output_type": "execute_result"
    }
   ],
   "source": [
    "my_dict = {\"A\":[1,2,3,4,5,6],\"B\":[2,3,1,.3,4,1],\"C\":['a','b','c','d','e','f']}\n",
    "pd.DataFrame(my_dict)"
   ]
  },
  {
   "cell_type": "markdown",
   "id": "1125f2d0",
   "metadata": {},
   "source": [
    "### Indexing Dataframes\n",
    "\n",
    "Setting the index as the unit of observation: We can redefine the index to work as a way to keep our unit of observation: consistent, clean, and easy to use.\n",
    "\n",
    "We can't use something like df[1,:] because it doesn't recognize what we're asking for. Because it is a sort of dictionary, we have to reference the keys. So D['Var1'] would return the column instead.\n",
    "\n",
    "Important to remember that we have 2 indices in a Dataframe for rows and columns, so we need to keep track of both, which leads us to iloc and loc built in functions.\n",
    "\n",
    "\n",
    "To **access** the indices in a `DataFrame`, we need to use two build-in methods:\n",
    "\n",
    "- `.iloc[]` = use the numerical index position to call to locations in the `DataFrame`. (_The `i` is short for `index`._)\n",
    "- `.loc[]` = use the labels to call to the location in the data frame. \n",
    "\n",
    "\n",
    "A few things to note about .loc[]\n",
    "\n",
    "    calls all named index positions. Above we get back all the requested rows (rather than the numerical range which returns one below the max value). This is because .loc[] treats the index as a labeled feature rather than a numerical one.\n",
    "    selecting ranges from labeled indices works the same as numerical indices. That is we can make calls to all variables in between (see below).\n",
    "\n",
    "\n",
    "\n"
   ]
  },
  {
   "cell_type": "code",
   "execution_count": 69,
   "id": "5d100bb4",
   "metadata": {},
   "outputs": [
    {
     "data": {
      "text/html": [
       "<div>\n",
       "<style scoped>\n",
       "    .dataframe tbody tr th:only-of-type {\n",
       "        vertical-align: middle;\n",
       "    }\n",
       "\n",
       "    .dataframe tbody tr th {\n",
       "        vertical-align: top;\n",
       "    }\n",
       "\n",
       "    .dataframe thead th {\n",
       "        text-align: right;\n",
       "    }\n",
       "</style>\n",
       "<table border=\"1\" class=\"dataframe\">\n",
       "  <thead>\n",
       "    <tr style=\"text-align: right;\">\n",
       "      <th></th>\n",
       "      <th>Country</th>\n",
       "      <th>Year</th>\n",
       "      <th>Cases</th>\n",
       "      <th>Population</th>\n",
       "    </tr>\n",
       "  </thead>\n",
       "  <tbody>\n",
       "    <tr>\n",
       "      <th>0</th>\n",
       "      <td>Afghanistan</td>\n",
       "      <td>1999</td>\n",
       "      <td>745</td>\n",
       "      <td>19987071</td>\n",
       "    </tr>\n",
       "    <tr>\n",
       "      <th>1</th>\n",
       "      <td>Afghanistan</td>\n",
       "      <td>2000</td>\n",
       "      <td>2666</td>\n",
       "      <td>20595360</td>\n",
       "    </tr>\n",
       "    <tr>\n",
       "      <th>2</th>\n",
       "      <td>Brazil</td>\n",
       "      <td>1999</td>\n",
       "      <td>37737</td>\n",
       "      <td>172006362</td>\n",
       "    </tr>\n",
       "    <tr>\n",
       "      <th>3</th>\n",
       "      <td>Brazil</td>\n",
       "      <td>2000</td>\n",
       "      <td>80488</td>\n",
       "      <td>174504898</td>\n",
       "    </tr>\n",
       "    <tr>\n",
       "      <th>4</th>\n",
       "      <td>China</td>\n",
       "      <td>1999</td>\n",
       "      <td>212258</td>\n",
       "      <td>1272915272</td>\n",
       "    </tr>\n",
       "    <tr>\n",
       "      <th>5</th>\n",
       "      <td>China</td>\n",
       "      <td>2000</td>\n",
       "      <td>213766</td>\n",
       "      <td>1280428583</td>\n",
       "    </tr>\n",
       "  </tbody>\n",
       "</table>\n",
       "</div>"
      ],
      "text/plain": [
       "       Country  Year   Cases  Population\n",
       "0  Afghanistan  1999     745    19987071\n",
       "1  Afghanistan  2000    2666    20595360\n",
       "2       Brazil  1999   37737   172006362\n",
       "3       Brazil  2000   80488   174504898\n",
       "4        China  1999  212258  1272915272\n",
       "5        China  2000  213766  1280428583"
      ]
     },
     "execution_count": 69,
     "metadata": {},
     "output_type": "execute_result"
    }
   ],
   "source": [
    "col_names = [\"Country\",\"Year\",\"Cases\",\"Population\"]\n",
    "list_dat = [[\"Afghanistan\", 1999, 745, 19987071],\n",
    "            [\"Afghanistan\", 2000, 2666, 20595360],\n",
    "            [\"Brazil\", 1999,  37737,   172006362],\n",
    "            [\"Brazil\", 2000,  80488,  174504898],\n",
    "            [\"China\",  1999,  212258, 1272915272],\n",
    "            [\"China\",  2000,  213766, 1280428583]]\n",
    "dat = pd.DataFrame(list_dat,columns=col_names)\n",
    "dat"
   ]
  },
  {
   "cell_type": "code",
   "execution_count": 70,
   "id": "45a026de",
   "metadata": {},
   "outputs": [
    {
     "data": {
      "text/html": [
       "<div>\n",
       "<style scoped>\n",
       "    .dataframe tbody tr th:only-of-type {\n",
       "        vertical-align: middle;\n",
       "    }\n",
       "\n",
       "    .dataframe tbody tr th {\n",
       "        vertical-align: top;\n",
       "    }\n",
       "\n",
       "    .dataframe thead th {\n",
       "        text-align: right;\n",
       "    }\n",
       "</style>\n",
       "<table border=\"1\" class=\"dataframe\">\n",
       "  <thead>\n",
       "    <tr style=\"text-align: right;\">\n",
       "      <th></th>\n",
       "      <th>Year</th>\n",
       "      <th>Cases</th>\n",
       "      <th>Population</th>\n",
       "    </tr>\n",
       "    <tr>\n",
       "      <th>Country</th>\n",
       "      <th></th>\n",
       "      <th></th>\n",
       "      <th></th>\n",
       "    </tr>\n",
       "  </thead>\n",
       "  <tbody>\n",
       "    <tr>\n",
       "      <th>Afghanistan</th>\n",
       "      <td>1999</td>\n",
       "      <td>745</td>\n",
       "      <td>19987071</td>\n",
       "    </tr>\n",
       "    <tr>\n",
       "      <th>Afghanistan</th>\n",
       "      <td>2000</td>\n",
       "      <td>2666</td>\n",
       "      <td>20595360</td>\n",
       "    </tr>\n",
       "    <tr>\n",
       "      <th>Brazil</th>\n",
       "      <td>1999</td>\n",
       "      <td>37737</td>\n",
       "      <td>172006362</td>\n",
       "    </tr>\n",
       "    <tr>\n",
       "      <th>Brazil</th>\n",
       "      <td>2000</td>\n",
       "      <td>80488</td>\n",
       "      <td>174504898</td>\n",
       "    </tr>\n",
       "    <tr>\n",
       "      <th>China</th>\n",
       "      <td>1999</td>\n",
       "      <td>212258</td>\n",
       "      <td>1272915272</td>\n",
       "    </tr>\n",
       "    <tr>\n",
       "      <th>China</th>\n",
       "      <td>2000</td>\n",
       "      <td>213766</td>\n",
       "      <td>1280428583</td>\n",
       "    </tr>\n",
       "  </tbody>\n",
       "</table>\n",
       "</div>"
      ],
      "text/plain": [
       "             Year   Cases  Population\n",
       "Country                              \n",
       "Afghanistan  1999     745    19987071\n",
       "Afghanistan  2000    2666    20595360\n",
       "Brazil       1999   37737   172006362\n",
       "Brazil       2000   80488   174504898\n",
       "China        1999  212258  1272915272\n",
       "China        2000  213766  1280428583"
      ]
     },
     "execution_count": 70,
     "metadata": {},
     "output_type": "execute_result"
    }
   ],
   "source": [
    "# instead of the 0-> index, we can set the index by a value in our data itself\n",
    "dat = dat.set_index('Country')\n",
    "dat"
   ]
  },
  {
   "cell_type": "code",
   "execution_count": 71,
   "id": "b5ca5fde",
   "metadata": {},
   "outputs": [
    {
     "data": {
      "text/html": [
       "<div>\n",
       "<style scoped>\n",
       "    .dataframe tbody tr th:only-of-type {\n",
       "        vertical-align: middle;\n",
       "    }\n",
       "\n",
       "    .dataframe tbody tr th {\n",
       "        vertical-align: top;\n",
       "    }\n",
       "\n",
       "    .dataframe thead th {\n",
       "        text-align: right;\n",
       "    }\n",
       "</style>\n",
       "<table border=\"1\" class=\"dataframe\">\n",
       "  <thead>\n",
       "    <tr style=\"text-align: right;\">\n",
       "      <th></th>\n",
       "      <th>Year</th>\n",
       "      <th>Cases</th>\n",
       "      <th>Population</th>\n",
       "    </tr>\n",
       "    <tr>\n",
       "      <th>Country</th>\n",
       "      <th></th>\n",
       "      <th></th>\n",
       "      <th></th>\n",
       "    </tr>\n",
       "  </thead>\n",
       "  <tbody>\n",
       "    <tr>\n",
       "      <th>Brazil</th>\n",
       "      <td>1999</td>\n",
       "      <td>37737</td>\n",
       "      <td>172006362</td>\n",
       "    </tr>\n",
       "    <tr>\n",
       "      <th>Brazil</th>\n",
       "      <td>2000</td>\n",
       "      <td>80488</td>\n",
       "      <td>174504898</td>\n",
       "    </tr>\n",
       "  </tbody>\n",
       "</table>\n",
       "</div>"
      ],
      "text/plain": [
       "         Year  Cases  Population\n",
       "Country                         \n",
       "Brazil   1999  37737   172006362\n",
       "Brazil   2000  80488   174504898"
      ]
     },
     "execution_count": 71,
     "metadata": {},
     "output_type": "execute_result"
    }
   ],
   "source": [
    "# returns multiple locations where the index is represented\n",
    "dat.loc['Brazil',:]"
   ]
  },
  {
   "cell_type": "code",
   "execution_count": 72,
   "id": "1f82a9e2",
   "metadata": {},
   "outputs": [
    {
     "data": {
      "text/html": [
       "<div>\n",
       "<style scoped>\n",
       "    .dataframe tbody tr th:only-of-type {\n",
       "        vertical-align: middle;\n",
       "    }\n",
       "\n",
       "    .dataframe tbody tr th {\n",
       "        vertical-align: top;\n",
       "    }\n",
       "\n",
       "    .dataframe thead th {\n",
       "        text-align: right;\n",
       "    }\n",
       "</style>\n",
       "<table border=\"1\" class=\"dataframe\">\n",
       "  <thead>\n",
       "    <tr style=\"text-align: right;\">\n",
       "      <th></th>\n",
       "      <th>Country</th>\n",
       "      <th>Year</th>\n",
       "      <th>Cases</th>\n",
       "      <th>Population</th>\n",
       "    </tr>\n",
       "  </thead>\n",
       "  <tbody>\n",
       "    <tr>\n",
       "      <th>0</th>\n",
       "      <td>Afghanistan</td>\n",
       "      <td>1999</td>\n",
       "      <td>745</td>\n",
       "      <td>19987071</td>\n",
       "    </tr>\n",
       "    <tr>\n",
       "      <th>1</th>\n",
       "      <td>Afghanistan</td>\n",
       "      <td>2000</td>\n",
       "      <td>2666</td>\n",
       "      <td>20595360</td>\n",
       "    </tr>\n",
       "    <tr>\n",
       "      <th>2</th>\n",
       "      <td>Brazil</td>\n",
       "      <td>1999</td>\n",
       "      <td>37737</td>\n",
       "      <td>172006362</td>\n",
       "    </tr>\n",
       "    <tr>\n",
       "      <th>3</th>\n",
       "      <td>Brazil</td>\n",
       "      <td>2000</td>\n",
       "      <td>80488</td>\n",
       "      <td>174504898</td>\n",
       "    </tr>\n",
       "    <tr>\n",
       "      <th>4</th>\n",
       "      <td>China</td>\n",
       "      <td>1999</td>\n",
       "      <td>212258</td>\n",
       "      <td>1272915272</td>\n",
       "    </tr>\n",
       "    <tr>\n",
       "      <th>5</th>\n",
       "      <td>China</td>\n",
       "      <td>2000</td>\n",
       "      <td>213766</td>\n",
       "      <td>1280428583</td>\n",
       "    </tr>\n",
       "  </tbody>\n",
       "</table>\n",
       "</div>"
      ],
      "text/plain": [
       "       Country  Year   Cases  Population\n",
       "0  Afghanistan  1999     745    19987071\n",
       "1  Afghanistan  2000    2666    20595360\n",
       "2       Brazil  1999   37737   172006362\n",
       "3       Brazil  2000   80488   174504898\n",
       "4        China  1999  212258  1272915272\n",
       "5        China  2000  213766  1280428583"
      ]
     },
     "execution_count": 72,
     "metadata": {},
     "output_type": "execute_result"
    }
   ],
   "source": [
    "# returns us the 0-> index\n",
    "dat = dat.reset_index()\n",
    "dat"
   ]
  },
  {
   "cell_type": "code",
   "execution_count": 73,
   "id": "a6a39983",
   "metadata": {},
   "outputs": [
    {
     "data": {
      "text/html": [
       "<div>\n",
       "<style scoped>\n",
       "    .dataframe tbody tr th:only-of-type {\n",
       "        vertical-align: middle;\n",
       "    }\n",
       "\n",
       "    .dataframe tbody tr th {\n",
       "        vertical-align: top;\n",
       "    }\n",
       "\n",
       "    .dataframe thead th {\n",
       "        text-align: right;\n",
       "    }\n",
       "</style>\n",
       "<table border=\"1\" class=\"dataframe\">\n",
       "  <thead>\n",
       "    <tr style=\"text-align: right;\">\n",
       "      <th></th>\n",
       "      <th></th>\n",
       "      <th>Cases</th>\n",
       "      <th>Population</th>\n",
       "    </tr>\n",
       "    <tr>\n",
       "      <th>Country</th>\n",
       "      <th>Year</th>\n",
       "      <th></th>\n",
       "      <th></th>\n",
       "    </tr>\n",
       "  </thead>\n",
       "  <tbody>\n",
       "    <tr>\n",
       "      <th rowspan=\"2\" valign=\"top\">Afghanistan</th>\n",
       "      <th>1999</th>\n",
       "      <td>745</td>\n",
       "      <td>19987071</td>\n",
       "    </tr>\n",
       "    <tr>\n",
       "      <th>2000</th>\n",
       "      <td>2666</td>\n",
       "      <td>20595360</td>\n",
       "    </tr>\n",
       "    <tr>\n",
       "      <th rowspan=\"2\" valign=\"top\">Brazil</th>\n",
       "      <th>1999</th>\n",
       "      <td>37737</td>\n",
       "      <td>172006362</td>\n",
       "    </tr>\n",
       "    <tr>\n",
       "      <th>2000</th>\n",
       "      <td>80488</td>\n",
       "      <td>174504898</td>\n",
       "    </tr>\n",
       "    <tr>\n",
       "      <th rowspan=\"2\" valign=\"top\">China</th>\n",
       "      <th>1999</th>\n",
       "      <td>212258</td>\n",
       "      <td>1272915272</td>\n",
       "    </tr>\n",
       "    <tr>\n",
       "      <th>2000</th>\n",
       "      <td>213766</td>\n",
       "      <td>1280428583</td>\n",
       "    </tr>\n",
       "  </tbody>\n",
       "</table>\n",
       "</div>"
      ],
      "text/plain": [
       "                   Cases  Population\n",
       "Country     Year                    \n",
       "Afghanistan 1999     745    19987071\n",
       "            2000    2666    20595360\n",
       "Brazil      1999   37737   172006362\n",
       "            2000   80488   174504898\n",
       "China       1999  212258  1272915272\n",
       "            2000  213766  1280428583"
      ]
     },
     "execution_count": 73,
     "metadata": {},
     "output_type": "execute_result"
    }
   ],
   "source": [
    "# multi-dimensional indexing\n",
    "dat = dat.set_index(keys=['Country', 'Year'])\n",
    "dat\n",
    "# index becomes a tuple, as seen below"
   ]
  },
  {
   "cell_type": "code",
   "execution_count": 74,
   "id": "33ef866c",
   "metadata": {},
   "outputs": [
    {
     "data": {
      "text/plain": [
       "MultiIndex([('Afghanistan', 1999),\n",
       "            ('Afghanistan', 2000),\n",
       "            (     'Brazil', 1999),\n",
       "            (     'Brazil', 2000),\n",
       "            (      'China', 1999),\n",
       "            (      'China', 2000)],\n",
       "           names=['Country', 'Year'])"
      ]
     },
     "execution_count": 74,
     "metadata": {},
     "output_type": "execute_result"
    }
   ],
   "source": [
    "dat.index"
   ]
  },
  {
   "cell_type": "code",
   "execution_count": 75,
   "id": "70462c68",
   "metadata": {},
   "outputs": [
    {
     "data": {
      "text/plain": [
       "Cases             2666\n",
       "Population    20595360\n",
       "Name: (Afghanistan, 2000), dtype: int64"
      ]
     },
     "execution_count": 75,
     "metadata": {},
     "output_type": "execute_result"
    }
   ],
   "source": [
    "# now our index requires a tuple, give us all columns associated\n",
    "dat.loc[(\"Afghanistan\",2000),:]"
   ]
  },
  {
   "cell_type": "code",
   "execution_count": 76,
   "id": "f6995544",
   "metadata": {},
   "outputs": [
    {
     "data": {
      "text/html": [
       "<div>\n",
       "<style scoped>\n",
       "    .dataframe tbody tr th:only-of-type {\n",
       "        vertical-align: middle;\n",
       "    }\n",
       "\n",
       "    .dataframe tbody tr th {\n",
       "        vertical-align: top;\n",
       "    }\n",
       "\n",
       "    .dataframe thead th {\n",
       "        text-align: right;\n",
       "    }\n",
       "</style>\n",
       "<table border=\"1\" class=\"dataframe\">\n",
       "  <thead>\n",
       "    <tr style=\"text-align: right;\">\n",
       "      <th></th>\n",
       "      <th></th>\n",
       "      <th>Cases</th>\n",
       "      <th>Population</th>\n",
       "    </tr>\n",
       "    <tr>\n",
       "      <th>Country</th>\n",
       "      <th>Year</th>\n",
       "      <th></th>\n",
       "      <th></th>\n",
       "    </tr>\n",
       "  </thead>\n",
       "  <tbody>\n",
       "    <tr>\n",
       "      <th>Afghanistan</th>\n",
       "      <th>2000</th>\n",
       "      <td>2666</td>\n",
       "      <td>20595360</td>\n",
       "    </tr>\n",
       "    <tr>\n",
       "      <th>Brazil</th>\n",
       "      <th>1999</th>\n",
       "      <td>37737</td>\n",
       "      <td>172006362</td>\n",
       "    </tr>\n",
       "  </tbody>\n",
       "</table>\n",
       "</div>"
      ],
      "text/plain": [
       "                  Cases  Population\n",
       "Country     Year                   \n",
       "Afghanistan 2000   2666    20595360\n",
       "Brazil      1999  37737   172006362"
      ]
     },
     "execution_count": 76,
     "metadata": {},
     "output_type": "execute_result"
    }
   ],
   "source": [
    "dat.loc[(\"Afghanistan\",2000):(\"Brazil\",1999),:]"
   ]
  },
  {
   "cell_type": "code",
   "execution_count": 77,
   "id": "d20eaaec",
   "metadata": {},
   "outputs": [
    {
     "data": {
      "text/html": [
       "<div>\n",
       "<style scoped>\n",
       "    .dataframe tbody tr th:only-of-type {\n",
       "        vertical-align: middle;\n",
       "    }\n",
       "\n",
       "    .dataframe tbody tr th {\n",
       "        vertical-align: top;\n",
       "    }\n",
       "\n",
       "    .dataframe thead th {\n",
       "        text-align: right;\n",
       "    }\n",
       "</style>\n",
       "<table border=\"1\" class=\"dataframe\">\n",
       "  <thead>\n",
       "    <tr style=\"text-align: right;\">\n",
       "      <th></th>\n",
       "      <th></th>\n",
       "      <th>Cases</th>\n",
       "      <th>Population</th>\n",
       "    </tr>\n",
       "    <tr>\n",
       "      <th>Country</th>\n",
       "      <th>Year</th>\n",
       "      <th></th>\n",
       "      <th></th>\n",
       "    </tr>\n",
       "  </thead>\n",
       "  <tbody>\n",
       "    <tr>\n",
       "      <th>Afghanistan</th>\n",
       "      <th>2000</th>\n",
       "      <td>2666</td>\n",
       "      <td>20595360</td>\n",
       "    </tr>\n",
       "    <tr>\n",
       "      <th>China</th>\n",
       "      <th>1999</th>\n",
       "      <td>212258</td>\n",
       "      <td>1272915272</td>\n",
       "    </tr>\n",
       "  </tbody>\n",
       "</table>\n",
       "</div>"
      ],
      "text/plain": [
       "                   Cases  Population\n",
       "Country     Year                    \n",
       "Afghanistan 2000    2666    20595360\n",
       "China       1999  212258  1272915272"
      ]
     },
     "execution_count": 77,
     "metadata": {},
     "output_type": "execute_result"
    }
   ],
   "source": [
    "dat.loc[[(\"Afghanistan\",2000),(\"China\",1999)],:]"
   ]
  },
  {
   "cell_type": "code",
   "execution_count": 78,
   "id": "46172aa4",
   "metadata": {},
   "outputs": [
    {
     "data": {
      "text/html": [
       "<div>\n",
       "<style scoped>\n",
       "    .dataframe tbody tr th:only-of-type {\n",
       "        vertical-align: middle;\n",
       "    }\n",
       "\n",
       "    .dataframe tbody tr th {\n",
       "        vertical-align: top;\n",
       "    }\n",
       "\n",
       "    .dataframe thead th {\n",
       "        text-align: right;\n",
       "    }\n",
       "</style>\n",
       "<table border=\"1\" class=\"dataframe\">\n",
       "  <thead>\n",
       "    <tr style=\"text-align: right;\">\n",
       "      <th></th>\n",
       "      <th>Cases</th>\n",
       "      <th>Population</th>\n",
       "    </tr>\n",
       "    <tr>\n",
       "      <th>Year</th>\n",
       "      <th></th>\n",
       "      <th></th>\n",
       "    </tr>\n",
       "  </thead>\n",
       "  <tbody>\n",
       "    <tr>\n",
       "      <th>1999</th>\n",
       "      <td>37737</td>\n",
       "      <td>172006362</td>\n",
       "    </tr>\n",
       "    <tr>\n",
       "      <th>2000</th>\n",
       "      <td>80488</td>\n",
       "      <td>174504898</td>\n",
       "    </tr>\n",
       "  </tbody>\n",
       "</table>\n",
       "</div>"
      ],
      "text/plain": [
       "      Cases  Population\n",
       "Year                   \n",
       "1999  37737   172006362\n",
       "2000  80488   174504898"
      ]
     },
     "execution_count": 78,
     "metadata": {},
     "output_type": "execute_result"
    }
   ],
   "source": [
    "dat.xs(\"Brazil\",level=\"Country\")\n",
    "# .xs() allows us to go into more detail with a single command when \n",
    "# we have multiple indices via the level attribute"
   ]
  },
  {
   "cell_type": "code",
   "execution_count": 63,
   "id": "3cc68074",
   "metadata": {},
   "outputs": [
    {
     "data": {
      "text/html": [
       "<div>\n",
       "<style scoped>\n",
       "    .dataframe tbody tr th:only-of-type {\n",
       "        vertical-align: middle;\n",
       "    }\n",
       "\n",
       "    .dataframe tbody tr th {\n",
       "        vertical-align: top;\n",
       "    }\n",
       "\n",
       "    .dataframe thead th {\n",
       "        text-align: right;\n",
       "    }\n",
       "</style>\n",
       "<table border=\"1\" class=\"dataframe\">\n",
       "  <thead>\n",
       "    <tr style=\"text-align: right;\">\n",
       "      <th></th>\n",
       "      <th></th>\n",
       "      <th>Cases</th>\n",
       "      <th>Population</th>\n",
       "    </tr>\n",
       "    <tr>\n",
       "      <th>Country</th>\n",
       "      <th>Year</th>\n",
       "      <th></th>\n",
       "      <th></th>\n",
       "    </tr>\n",
       "  </thead>\n",
       "  <tbody>\n",
       "    <tr>\n",
       "      <th>Afghanistan</th>\n",
       "      <th>2000</th>\n",
       "      <td>2666</td>\n",
       "      <td>20595360</td>\n",
       "    </tr>\n",
       "    <tr>\n",
       "      <th>Brazil</th>\n",
       "      <th>2000</th>\n",
       "      <td>80488</td>\n",
       "      <td>174504898</td>\n",
       "    </tr>\n",
       "    <tr>\n",
       "      <th>China</th>\n",
       "      <th>2000</th>\n",
       "      <td>213766</td>\n",
       "      <td>1280428583</td>\n",
       "    </tr>\n",
       "  </tbody>\n",
       "</table>\n",
       "</div>"
      ],
      "text/plain": [
       "                   Cases  Population\n",
       "Country     Year                    \n",
       "Afghanistan 2000    2666    20595360\n",
       "Brazil      2000   80488   174504898\n",
       "China       2000  213766  1280428583"
      ]
     },
     "execution_count": 63,
     "metadata": {},
     "output_type": "execute_result"
    }
   ],
   "source": [
    "# boolean example\n",
    "dat.loc[dat.index.get_level_values('Year') == 2000,:]"
   ]
  },
  {
   "cell_type": "code",
   "execution_count": 65,
   "id": "16f4ba80",
   "metadata": {},
   "outputs": [
    {
     "data": {
      "text/html": [
       "<div>\n",
       "<style scoped>\n",
       "    .dataframe tbody tr th:only-of-type {\n",
       "        vertical-align: middle;\n",
       "    }\n",
       "\n",
       "    .dataframe tbody tr th {\n",
       "        vertical-align: top;\n",
       "    }\n",
       "\n",
       "    .dataframe thead th {\n",
       "        text-align: right;\n",
       "    }\n",
       "</style>\n",
       "<table border=\"1\" class=\"dataframe\">\n",
       "  <thead>\n",
       "    <tr style=\"text-align: right;\">\n",
       "      <th></th>\n",
       "      <th></th>\n",
       "      <th>Cases</th>\n",
       "      <th>Population</th>\n",
       "    </tr>\n",
       "    <tr>\n",
       "      <th>Country</th>\n",
       "      <th>Year</th>\n",
       "      <th></th>\n",
       "      <th></th>\n",
       "    </tr>\n",
       "  </thead>\n",
       "  <tbody>\n",
       "    <tr>\n",
       "      <th rowspan=\"2\" valign=\"top\">China</th>\n",
       "      <th>2000</th>\n",
       "      <td>213766</td>\n",
       "      <td>1280428583</td>\n",
       "    </tr>\n",
       "    <tr>\n",
       "      <th>1999</th>\n",
       "      <td>212258</td>\n",
       "      <td>1272915272</td>\n",
       "    </tr>\n",
       "    <tr>\n",
       "      <th rowspan=\"2\" valign=\"top\">Brazil</th>\n",
       "      <th>2000</th>\n",
       "      <td>80488</td>\n",
       "      <td>174504898</td>\n",
       "    </tr>\n",
       "    <tr>\n",
       "      <th>1999</th>\n",
       "      <td>37737</td>\n",
       "      <td>172006362</td>\n",
       "    </tr>\n",
       "    <tr>\n",
       "      <th rowspan=\"2\" valign=\"top\">Afghanistan</th>\n",
       "      <th>2000</th>\n",
       "      <td>2666</td>\n",
       "      <td>20595360</td>\n",
       "    </tr>\n",
       "    <tr>\n",
       "      <th>1999</th>\n",
       "      <td>745</td>\n",
       "      <td>19987071</td>\n",
       "    </tr>\n",
       "  </tbody>\n",
       "</table>\n",
       "</div>"
      ],
      "text/plain": [
       "                   Cases  Population\n",
       "Country     Year                    \n",
       "China       2000  213766  1280428583\n",
       "            1999  212258  1272915272\n",
       "Brazil      2000   80488   174504898\n",
       "            1999   37737   172006362\n",
       "Afghanistan 2000    2666    20595360\n",
       "            1999     745    19987071"
      ]
     },
     "execution_count": 65,
     "metadata": {},
     "output_type": "execute_result"
    }
   ],
   "source": [
    "# sorting \n",
    "dat.sort_index(ascending=False)"
   ]
  },
  {
   "cell_type": "code",
   "execution_count": 66,
   "id": "e32efc78",
   "metadata": {},
   "outputs": [],
   "source": [
    "dat.reset_index(inplace=True)"
   ]
  },
  {
   "cell_type": "code",
   "execution_count": 79,
   "id": "31c9c9fb",
   "metadata": {},
   "outputs": [
    {
     "data": {
      "text/plain": [
       "Index(['CASES', 'POPULATION'], dtype='object')"
      ]
     },
     "execution_count": 79,
     "metadata": {},
     "output_type": "execute_result"
    }
   ],
   "source": [
    "dat.columns = dat.columns.str.upper()\n",
    "dat.columns\n",
    "\n",
    "# can't do these individually, have to do them all at once, due to the dictionary nature of the dataframe"
   ]
  },
  {
   "cell_type": "code",
   "execution_count": 80,
   "id": "878fe485",
   "metadata": {},
   "outputs": [
    {
     "data": {
      "text/html": [
       "<div>\n",
       "<style scoped>\n",
       "    .dataframe tbody tr th:only-of-type {\n",
       "        vertical-align: middle;\n",
       "    }\n",
       "\n",
       "    .dataframe tbody tr th {\n",
       "        vertical-align: top;\n",
       "    }\n",
       "\n",
       "    .dataframe thead th {\n",
       "        text-align: right;\n",
       "    }\n",
       "</style>\n",
       "<table border=\"1\" class=\"dataframe\">\n",
       "  <thead>\n",
       "    <tr style=\"text-align: right;\">\n",
       "      <th></th>\n",
       "      <th></th>\n",
       "      <th>CASES</th>\n",
       "      <th>POP</th>\n",
       "    </tr>\n",
       "    <tr>\n",
       "      <th>Country</th>\n",
       "      <th>Year</th>\n",
       "      <th></th>\n",
       "      <th></th>\n",
       "    </tr>\n",
       "  </thead>\n",
       "  <tbody>\n",
       "    <tr>\n",
       "      <th rowspan=\"2\" valign=\"top\">Afghanistan</th>\n",
       "      <th>1999</th>\n",
       "      <td>745</td>\n",
       "      <td>19987071</td>\n",
       "    </tr>\n",
       "    <tr>\n",
       "      <th>2000</th>\n",
       "      <td>2666</td>\n",
       "      <td>20595360</td>\n",
       "    </tr>\n",
       "    <tr>\n",
       "      <th rowspan=\"2\" valign=\"top\">Brazil</th>\n",
       "      <th>1999</th>\n",
       "      <td>37737</td>\n",
       "      <td>172006362</td>\n",
       "    </tr>\n",
       "    <tr>\n",
       "      <th>2000</th>\n",
       "      <td>80488</td>\n",
       "      <td>174504898</td>\n",
       "    </tr>\n",
       "    <tr>\n",
       "      <th rowspan=\"2\" valign=\"top\">China</th>\n",
       "      <th>1999</th>\n",
       "      <td>212258</td>\n",
       "      <td>1272915272</td>\n",
       "    </tr>\n",
       "    <tr>\n",
       "      <th>2000</th>\n",
       "      <td>213766</td>\n",
       "      <td>1280428583</td>\n",
       "    </tr>\n",
       "  </tbody>\n",
       "</table>\n",
       "</div>"
      ],
      "text/plain": [
       "                   CASES         POP\n",
       "Country     Year                    \n",
       "Afghanistan 1999     745    19987071\n",
       "            2000    2666    20595360\n",
       "Brazil      1999   37737   172006362\n",
       "            2000   80488   174504898\n",
       "China       1999  212258  1272915272\n",
       "            2000  213766  1280428583"
      ]
     },
     "execution_count": 80,
     "metadata": {},
     "output_type": "execute_result"
    }
   ],
   "source": [
    "#instead of something like dat.columns[dat.columns == \"POPULATION\"] = \"POP\"\n",
    "\n",
    "dat.rename(columns={\"POPULATION\":\"POP\"},\n",
    "             inplace=True) # Makes the change in-place rather than making a copy\n",
    "dat"
   ]
  },
  {
   "cell_type": "markdown",
   "id": "7dac769f",
   "metadata": {},
   "source": [
    "### Stacking/Unstacking\n",
    "\n",
    "The ease at which we can assign various index values offers a lot of flexibility regarding how we choose to shape the data. In fact, we can reshape the data in may ways by .stack()ing and .unstack()ing it.\n",
    "\n",
    "We need to tell it the level at which we want to operate with multiple indices, passed through as an argument.\n",
    "\n"
   ]
  },
  {
   "cell_type": "code",
   "execution_count": null,
   "id": "5800600a",
   "metadata": {},
   "outputs": [],
   "source": []
  }
 ],
 "metadata": {
  "kernelspec": {
   "display_name": "Python 3",
   "language": "python",
   "name": "python3"
  },
  "language_info": {
   "codemirror_mode": {
    "name": "ipython",
    "version": 3
   },
   "file_extension": ".py",
   "mimetype": "text/x-python",
   "name": "python",
   "nbconvert_exporter": "python",
   "pygments_lexer": "ipython3",
   "version": "3.8.8"
  }
 },
 "nbformat": 4,
 "nbformat_minor": 5
}
