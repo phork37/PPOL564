{
 "cells": [
  {
   "cell_type": "markdown",
   "id": "5de5f47e",
   "metadata": {},
   "source": [
    "### Why Python for Data Science?\n",
    "\n",
    "OOP allows us to have additional control over data types and how data should flow. Can manage the properties within the object itself.\n",
    "\n",
    "Benefit is building class objects specifically to control how ML pipelines work, whereas R requires more checks for lowest-common demoninator errors.\n",
    "\n"
   ]
  },
  {
   "cell_type": "code",
   "execution_count": 1,
   "id": "7aff47ed",
   "metadata": {
    "scrolled": false
   },
   "outputs": [
    {
     "name": "stdout",
     "output_type": "stream",
     "text": [
      "['a', 'b', 'c', 'd', 'e', 'f', 'g']\n",
      "['abcdef', 'g']\n",
      "a\n",
      "b\n",
      "c\n",
      "d\n",
      "e\n",
      "f\n",
      "g\n"
     ]
    }
   ],
   "source": [
    "x = \"a b c d e f g\".split()\n",
    "print(x)\n",
    "\n",
    "y = \"abcdef*g\".split(\"*\")\n",
    "print(y)\n",
    "\n",
    "for i in x:\n",
    "    print(i)\n",
    "    "
   ]
  },
  {
   "cell_type": "markdown",
   "id": "603f43e8",
   "metadata": {},
   "source": [
    "We're accessing a very specific call to the iterator, x.__init()__\n",
    "the for loop turns on this iterator and keeps calling it until it hits the condition to end the loop.\n",
    "\n",
    "Example: Panda iterates across the column space \"for no other reason than that's how the instructions for iteration are defined in the rules for their iterator.\"\n",
    "\n",
    "Boolean Values & Evaluations\n",
    " 1 == 2 #False\n",
    " 1 != 2 #True\n",
    "Evaluates parenthetical statements together, then evaluates other statements with the final result. \n",
    "Example: "
   ]
  },
  {
   "cell_type": "code",
   "execution_count": 2,
   "id": "243730db",
   "metadata": {},
   "outputs": [
    {
     "name": "stdout",
     "output_type": "stream",
     "text": [
      "False\n",
      "True\n",
      "False\n",
      "False\n",
      "True\n"
     ]
    }
   ],
   "source": [
    "print((1 <= 2 or 3 > 4) and 1 > 2)\n",
    "\n",
    "u = x\n",
    "\n",
    "# This asks do they have the same ID, versus are they the same object\n",
    "print(u is x)\n",
    "print(u is not x)\n",
    "print('z' in x) # False\n",
    "print('z' not in u)\n"
   ]
  },
  {
   "cell_type": "code",
   "execution_count": 3,
   "id": "5df70358",
   "metadata": {},
   "outputs": [
    {
     "name": "stdout",
     "output_type": "stream",
     "text": [
      "Hello\n",
      "Hello\n",
      "Hello\n",
      "Hello\n",
      "wait\n",
      "wait\n",
      "wait\n",
      "bye\n",
      "bye\n",
      "bye\n"
     ]
    }
   ],
   "source": [
    "for i in [1,2,3,4,5,6,7,8,9,10]:\n",
    "    if i < 5:\n",
    "        print(\"Hello\")\n",
    "    elif i >=5 and i<=7:\n",
    "        print(\"wait\")\n",
    "    else:\n",
    "        print(\"bye\")"
   ]
  },
  {
   "cell_type": "code",
   "execution_count": 4,
   "id": "ee086669",
   "metadata": {},
   "outputs": [
    {
     "name": "stdout",
     "output_type": "stream",
     "text": [
      "The Zen of Python, by Tim Peters\n",
      "\n",
      "Beautiful is better than ugly.\n",
      "Explicit is better than implicit.\n",
      "Simple is better than complex.\n",
      "Complex is better than complicated.\n",
      "Flat is better than nested.\n",
      "Sparse is better than dense.\n",
      "Readability counts.\n",
      "Special cases aren't special enough to break the rules.\n",
      "Although practicality beats purity.\n",
      "Errors should never pass silently.\n",
      "Unless explicitly silenced.\n",
      "In the face of ambiguity, refuse the temptation to guess.\n",
      "There should be one-- and preferably only one --obvious way to do it.\n",
      "Although that way may not be obvious at first unless you're Dutch.\n",
      "Now is better than never.\n",
      "Although never is often better than *right* now.\n",
      "If the implementation is hard to explain, it's a bad idea.\n",
      "If the implementation is easy to explain, it may be a good idea.\n",
      "Namespaces are one honking great idea -- let's do more of those!\n"
     ]
    }
   ],
   "source": [
    "import this\n"
   ]
  },
  {
   "cell_type": "code",
   "execution_count": 5,
   "id": "ae0caf42",
   "metadata": {},
   "outputs": [
    {
     "name": "stdout",
     "output_type": "stream",
     "text": [
      "0\n",
      "1\n",
      "2\n",
      "3\n",
      "4\n"
     ]
    }
   ],
   "source": [
    "#While loop example\n",
    "\n",
    "i = 0\n",
    "while i < 5:\n",
    "    print(i)\n",
    "    i += 1 "
   ]
  },
  {
   "cell_type": "code",
   "execution_count": 6,
   "id": "7492fd0d",
   "metadata": {},
   "outputs": [],
   "source": [
    "def func():\n",
    "    pass"
   ]
  },
  {
   "cell_type": "markdown",
   "id": "400ed690",
   "metadata": {},
   "source": [
    "### Defining Functions\n",
    "\n",
    "def name(arguments):\n",
    "    \n",
    "    code\n",
    "    \n",
    "    return result\n",
    "    \n",
    "    \n",
    "The above chunk of code example makes a specific definition of an object, we then make a call to the function that gives us a specific instance within the namespace.\n",
    "\n",
    "Serves as a way to pack up and make code more modular for complex projects."
   ]
  },
  {
   "cell_type": "code",
   "execution_count": 7,
   "id": "f95bea98",
   "metadata": {},
   "outputs": [
    {
     "name": "stdout",
     "output_type": "stream",
     "text": [
      "Hello\n",
      "a\n",
      "b\n",
      "c\n",
      "a\n",
      "b\n",
      "c\n"
     ]
    }
   ],
   "source": [
    "def func():\n",
    "    print(\"Hello\")\n",
    "\n",
    "func()\n",
    "\n",
    "def func1(my_list):\n",
    "    for i in my_list:\n",
    "        \n",
    "        if i < 5:\n",
    "            print(\"a\")\n",
    "        elif i == 5:\n",
    "            print(\"b\")\n",
    "        else:\n",
    "            print(\"c\")\n",
    "            \n",
    "func1(my_list=[1,5,7])\n",
    "my_new_list = [4,5,10]\n",
    "func1(my_new_list)"
   ]
  },
  {
   "cell_type": "markdown",
   "id": "14b6a8bb",
   "metadata": {},
   "source": [
    "Whenever we create a default input for a function, we don't want to leave it as a mutable object or it can create unexpected issues.\n",
    "\n",
    "### Scope\n",
    "\n",
    "Built-In > Modules > Global > Class > Function\n",
    "\n",
    "for instance, if we have a variable b defined before a function is called as well as within a subsequent function, the function will check the more local definition of b before looking for the global definition of b.\n",
    "However another function that doesn't have b passed to it would look for the global function beforehand.\n",
    "\n",
    "Want to make sure that we never make calls globally for things that should be defined locally.\n",
    "Going outside the scope of a given call is the source of a lot of hard to track bugs.\n",
    "\n",
    "Instead of referencing a global variable, pass it in as an argument to the function."
   ]
  },
  {
   "cell_type": "markdown",
   "id": "457c7cf1",
   "metadata": {},
   "source": [
    "### Docstring\n",
    "\n",
    "Note:\n",
    "\"\"\" \n",
    "As much text as we want rendered as a string\n",
    "\"\"\"\n",
    "\n",
    "Being \"kind to future you\" includes writing information as to what created functions do\n",
    "\n",
    "functions are objects and have their own method calls. One of the built-in functions we get for free is __doc__ which includes the info we include. The global built-in help() will provide documentation."
   ]
  },
  {
   "cell_type": "code",
   "execution_count": 8,
   "id": "e7e3b0b5",
   "metadata": {},
   "outputs": [
    {
     "data": {
      "text/plain": [
       "78"
      ]
     },
     "execution_count": 8,
     "metadata": {},
     "output_type": "execute_result"
    }
   ],
   "source": [
    "text = \"An initial attempt to rescue the group, stranded in mountain refuge for two nights, was abandoned on Monday night because of smoke from the Creek Fire. But helicopters were able to land early on Tuesday and are have begun taking the hikers to safety. Fires in California have burned through a record 2m acres in recent weeks. In total, these blazes span an area larger than the US state of Delaware. California is currently experiencing an unprecedented heatwave.\"\n",
    "\n",
    "\n",
    "def word_count(text=\"\"):\n",
    "\n",
    "    \"\"\"\n",
    "    What is the function doing?\n",
    "\n",
    "    Argument:\n",
    "    ------\n",
    "    text: str\n",
    "    A text string\n",
    "    \"\"\"\n",
    "    \n",
    "    \n",
    "    tmp = text.split(\" \")\n",
    "    count = len(tmp)\n",
    "    return count\n",
    "\n",
    "word_count(text)"
   ]
  }
 ],
 "metadata": {
  "kernelspec": {
   "display_name": "Python 3",
   "language": "python",
   "name": "python3"
  },
  "language_info": {
   "codemirror_mode": {
    "name": "ipython",
    "version": 3
   },
   "file_extension": ".py",
   "mimetype": "text/x-python",
   "name": "python",
   "nbconvert_exporter": "python",
   "pygments_lexer": "ipython3",
   "version": "3.8.8"
  }
 },
 "nbformat": 4,
 "nbformat_minor": 5
}
