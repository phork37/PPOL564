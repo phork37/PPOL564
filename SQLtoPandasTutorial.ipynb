{
 "cells": [
  {
   "cell_type": "code",
   "execution_count": 6,
   "id": "aaf34358",
   "metadata": {},
   "outputs": [],
   "source": [
    "import pandas as pd\n",
    "import sqlite3"
   ]
  },
  {
   "cell_type": "code",
   "execution_count": 4,
   "id": "37c5f156",
   "metadata": {},
   "outputs": [],
   "source": [
    "conn = sqlite3.connect('test_database') \n",
    "c = conn.cursor()\n",
    "\n",
    "c.execute('''\n",
    "          CREATE TABLE IF NOT EXISTS players\n",
    "          ([player_no] INTEGER PRIMARY KEY, [player_name] TEXT, [position] TEXT)\n",
    "          ''')\n",
    "          \n",
    "c.execute('''\n",
    "          INSERT INTO players (player_no, player_name, position)\n",
    "\n",
    "                VALUES\n",
    "                (11, 'D. Harris', 'WR'),\n",
    "                (41, 'A. Kamara', 'RB'),\n",
    "                (13, 'M. Thomas', 'WR'),\n",
    "                (7, 'T. Hill', 'QB')\n",
    "          ''')                     \n",
    "\n",
    "conn.commit()"
   ]
  },
  {
   "cell_type": "code",
   "execution_count": 7,
   "id": "8c432a54",
   "metadata": {},
   "outputs": [
    {
     "name": "stdout",
     "output_type": "stream",
     "text": [
      "   player_no player_name position\n",
      "0          7     T. Hill       QB\n",
      "1         11   D. Harris       WR\n",
      "2         13   M. Thomas       WR\n",
      "3         41   A. Kamara       RB\n"
     ]
    }
   ],
   "source": [
    "# Method 1\n",
    "\n",
    "sql_query = pd.read_sql_query ('''\n",
    "                               SELECT\n",
    "                               *\n",
    "                               FROM players\n",
    "                               ''', conn)\n",
    "\n",
    "df = pd.DataFrame(sql_query, columns = ['player_no', 'player_name', 'position'])\n",
    "print (df)"
   ]
  },
  {
   "cell_type": "code",
   "execution_count": 8,
   "id": "8eed07be",
   "metadata": {},
   "outputs": [
    {
     "name": "stdout",
     "output_type": "stream",
     "text": [
      "   player_no player_name position\n",
      "0          7     T. Hill       QB\n",
      "1         11   D. Harris       WR\n",
      "2         13   M. Thomas       WR\n",
      "3         41   A. Kamara       RB\n"
     ]
    }
   ],
   "source": [
    "# Method 2\n",
    "\n",
    "c.execute('''\n",
    "          SELECT\n",
    "          *\n",
    "          FROM players\n",
    "          ''')\n",
    "\n",
    "df = pd.DataFrame(c.fetchall(), columns = ['player_no', 'player_name', 'position'])\n",
    "print (df)"
   ]
  },
  {
   "cell_type": "code",
   "execution_count": 20,
   "id": "f191ca6e",
   "metadata": {},
   "outputs": [],
   "source": [
    "#subset the SQL query to only wide receivers\n",
    "c.execute(\n",
    "        '''\n",
    "        SELECT *\n",
    "        FROM players\n",
    "        WHERE position = 'WR'\n",
    "        ''')\n",
    "\n",
    "df_wr = pd.DataFrame(c.fetchall(), columns = ['player_no', 'player_name', 'position'])\n",
    "df_wr"
   ]
  },
  {
   "cell_type": "markdown",
   "id": "bdbf83b1",
   "metadata": {},
   "source": [
    "Tutorial used for inspiration: https://datatofish.com/sql-to-pandas-dataframe/"
   ]
  }
 ],
 "metadata": {
  "kernelspec": {
   "display_name": "Python 3",
   "language": "python",
   "name": "python3"
  },
  "language_info": {
   "codemirror_mode": {
    "name": "ipython",
    "version": 3
   },
   "file_extension": ".py",
   "mimetype": "text/x-python",
   "name": "python",
   "nbconvert_exporter": "python",
   "pygments_lexer": "ipython3",
   "version": "3.8.8"
  }
 },
 "nbformat": 4,
 "nbformat_minor": 5
}
