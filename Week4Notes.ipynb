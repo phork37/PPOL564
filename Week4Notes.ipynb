{
 "cells": [
  {
   "cell_type": "markdown",
   "id": "417ac12b",
   "metadata": {},
   "source": [
    "When working with lists, pop from the list, append to the end of the list, but avoid adding to specific positions, as it increases the workload by requiring a number of objects to be adjusted.\n",
    "\n",
    "Regarding efficiency, most things we're doing are 'good enough'\n",
    "Only in an interview does everything has to be optimized.\n",
    "It's more important to know when it's worth it to worry about efficiency.\n",
    "Tech Debt: the inevitable build up of spending resources on inefficient code. \n",
    "\n",
    "### Analyzing Code"
   ]
  },
  {
   "cell_type": "code",
   "execution_count": 4,
   "id": "65744863",
   "metadata": {},
   "outputs": [],
   "source": [
    "import random \n",
    "# M and N are inputs\n",
    "\n",
    "\n",
    "a = 0\n",
    "b = 0\n",
    "\n",
    "def func1(N,M):\n",
    "\n",
    "    for i in range(N):\n",
    "      if random.gauss(0,1) > 0:\n",
    "        a += 1\n",
    "      else:\n",
    "        a -= 1\n",
    "    \n",
    "    for j in range(M):\n",
    "      if random.gauss(0,1) > 0:\n",
    "        b += 1\n",
    "      else:\n",
    "        b -= 1"
   ]
  },
  {
   "cell_type": "markdown",
   "id": "3804ffeb",
   "metadata": {},
   "source": [
    "Time: O(N+M), Space: (1)"
   ]
  },
  {
   "cell_type": "code",
   "execution_count": 5,
   "id": "3dbf9bea",
   "metadata": {},
   "outputs": [],
   "source": [
    "# N is an input\n",
    "a = 0\n",
    "def func2(N):\n",
    "\n",
    "    for i in range(N):\n",
    "      for j in range(i,N):\n",
    "        a = a + i + j"
   ]
  },
  {
   "cell_type": "markdown",
   "id": "c4c2d7fc",
   "metadata": {},
   "source": [
    "Time: O(N^2), Space: (1)"
   ]
  },
  {
   "cell_type": "code",
   "execution_count": 6,
   "id": "d4d1cb01",
   "metadata": {},
   "outputs": [],
   "source": [
    "# N is an input\n",
    "a = 0\n",
    "def func3(N):\n",
    "    i = N\n",
    "    while i > 0:\n",
    "      a += i\n",
    "      i = i//2"
   ]
  },
  {
   "cell_type": "markdown",
   "id": "3799eb04",
   "metadata": {},
   "source": [
    "Time: O(log2(n))"
   ]
  },
  {
   "cell_type": "markdown",
   "id": "8b6fb392",
   "metadata": {},
   "source": [
    "### Anonymous Functions \n",
    "\n",
    "Format:\n",
    "lambda args: code\n",
    "\n",
    "This format is useful if you don't want to create a bunch of small functions, but need the capability to use arguments\n",
    "\n",
    "Allow us to make simple computations without generating an entire function"
   ]
  },
  {
   "cell_type": "code",
   "execution_count": 9,
   "id": "d4378002",
   "metadata": {},
   "outputs": [
    {
     "name": "stdout",
     "output_type": "stream",
     "text": [
      "4\n",
      "4\n"
     ]
    }
   ],
   "source": [
    "def fun(x):\n",
    "    return x**2\n",
    "\n",
    "square = lambda x: x**2\n",
    "\n",
    "print(fun(2))\n",
    "print(square(2))"
   ]
  },
  {
   "cell_type": "code",
   "execution_count": 25,
   "id": "813e3c08",
   "metadata": {},
   "outputs": [
    {
     "name": "stdout",
     "output_type": "stream",
     "text": [
      "['Barack Obama', 'Bill Clinton', 'Donald Trump', 'George Bush', 'Jimmy Carter']\n",
      "['George Bush', 'Barack Obama', 'Donald Trump', 'Jimmy Carter', 'Bill Clinton']\n",
      "['Bill Clinton', 'Jimmy Carter', 'Barack Obama', 'Donald Trump', 'George Bush']\n"
     ]
    }
   ],
   "source": [
    "presidents = ['Barack Obama', 'Donald Trump', 'George Bush', 'Jimmy Carter', 'Bill Clinton']\n",
    "presidents.sort() # using the first entry on the string index and sorting alphabetically, default functionality\n",
    "print(presidents)\n",
    "\n",
    "def sort_by_longest_last_name(x):\n",
    "    return len(x.split()[-1]) # split the names, take the last in the list, the last name\n",
    "\n",
    "# we can drop into sorted() custom ways to sort, in this case based on the returned length\n",
    "presidents_last_name = sorted(presidents, key=sort_by_longest_last_name, reverse=False)\n",
    "#x as the input becomes a placeholder for each item in list\n",
    "print(presidents_last_name)\n",
    "\n",
    "# Similarly, we can use a lambda function as the key to prevent defining a function and still getting the same result.\n",
    "presidents_first_name = sorted(presidents, key=lambda x: len(x.split()[0]), reverse=False)\n",
    "print(presidents_first_name)"
   ]
  },
  {
   "cell_type": "markdown",
   "id": "60f502d5",
   "metadata": {},
   "source": [
    "### Modules\n",
    "Best practices includes imports of all the dependencies\n",
    "Then definitions of all written functions with doc strings\n",
    "Then all the work of the program\n",
    "\n",
    "Python has a fairly robust set of standard modules.\n",
    "\n",
    "Want to avoid using\n",
    "from numpy import *\n",
    "\n",
    "because it \"throws everything on the table.\" While it would allow us to reference methods without calling into numpy, it would also lead to eventual confusion as to which method comes from which module, as well as potential conflicts.\n",
    "\n",
    "Instead, we can import by the name and then reference, we can rename for easier tracking, or we can import specific methods as needed.\n",
    "\n",
    "If you have an issue downloading something, or it isn't showing up, use pip3 instead of pip\n",
    "\n",
    "\"!\" as the start of a cell will run as if from the command line"
   ]
  },
  {
   "cell_type": "code",
   "execution_count": 26,
   "id": "fed5d6c3",
   "metadata": {},
   "outputs": [
    {
     "data": {
      "text/plain": [
       "2.302585092994046"
      ]
     },
     "execution_count": 26,
     "metadata": {},
     "output_type": "execute_result"
    }
   ],
   "source": [
    "# importing the entire module, then calling a function from within it\n",
    "import math\n",
    "math.log(10)\n",
    "\n",
    "# importing the entire module, and renaming it for use throughout the notebook\n",
    "import numpy as np\n",
    "\n",
    "# importing a specific method from a larger module, we can then use it the same way as math.log above\n",
    "from sklearn import metrics"
   ]
  },
  {
   "cell_type": "code",
   "execution_count": null,
   "id": "05745a83",
   "metadata": {},
   "outputs": [],
   "source": []
  }
 ],
 "metadata": {
  "kernelspec": {
   "display_name": "Python 3",
   "language": "python",
   "name": "python3"
  },
  "language_info": {
   "codemirror_mode": {
    "name": "ipython",
    "version": 3
   },
   "file_extension": ".py",
   "mimetype": "text/x-python",
   "name": "python",
   "nbconvert_exporter": "python",
   "pygments_lexer": "ipython3",
   "version": "3.8.8"
  }
 },
 "nbformat": 4,
 "nbformat_minor": 5
}
