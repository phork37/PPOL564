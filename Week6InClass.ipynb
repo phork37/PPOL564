{
 "cells": [
  {
   "cell_type": "code",
   "execution_count": 1,
   "id": "91230fba",
   "metadata": {},
   "outputs": [],
   "source": [
    "import numpy as np\n",
    "import pandas as pd\n",
    "from dfply import *"
   ]
  },
  {
   "cell_type": "code",
   "execution_count": 2,
   "id": "267ce2c1",
   "metadata": {},
   "outputs": [],
   "source": [
    "df = pd.read_csv(\"acled_africa.csv\")"
   ]
  },
  {
   "cell_type": "markdown",
   "id": "8118a17d",
   "metadata": {},
   "source": [
    "### 1. What’s the temporal coverage of the data (i.e how many years does it span)?"
   ]
  },
  {
   "cell_type": "code",
   "execution_count": 72,
   "id": "01b9c6e8",
   "metadata": {},
   "outputs": [
    {
     "data": {
      "text/plain": [
       "23"
      ]
     },
     "execution_count": 72,
     "metadata": {},
     "output_type": "execute_result"
    }
   ],
   "source": [
    "years = df['year'].drop_duplicates()\n",
    "years.count()"
   ]
  },
  {
   "cell_type": "markdown",
   "id": "665bf7c1",
   "metadata": {},
   "source": [
    "## 2. How many events are recorded for each country?"
   ]
  },
  {
   "cell_type": "code",
   "execution_count": 89,
   "id": "3bb4a781",
   "metadata": {},
   "outputs": [
    {
     "data": {
      "text/plain": [
       "country\n",
       "Algeria         7704\n",
       "Angola          3282\n",
       "Benin            225\n",
       "Botswana          65\n",
       "Burkina Faso    2181\n",
       "dtype: int64"
      ]
     },
     "execution_count": 89,
     "metadata": {},
     "output_type": "execute_result"
    }
   ],
   "source": [
    "df.groupby(['country']).size().head()"
   ]
  },
  {
   "cell_type": "markdown",
   "id": "0532cf22",
   "metadata": {},
   "source": [
    "## 3. How many events are recorded for each year?"
   ]
  },
  {
   "cell_type": "code",
   "execution_count": 90,
   "id": "616c3b52",
   "metadata": {},
   "outputs": [
    {
     "data": {
      "text/plain": [
       "year\n",
       "1997    3209\n",
       "1998    4546\n",
       "1999    4882\n",
       "2000    4166\n",
       "2001    3604\n",
       "dtype: int64"
      ]
     },
     "execution_count": 90,
     "metadata": {},
     "output_type": "execute_result"
    }
   ],
   "source": [
    "df.groupby(['year']).size().head()"
   ]
  },
  {
   "cell_type": "markdown",
   "id": "21cf92d1",
   "metadata": {},
   "source": [
    "## 4. What’s the most common event type in the data?"
   ]
  },
  {
   "cell_type": "code",
   "execution_count": 99,
   "id": "b3c067c6",
   "metadata": {},
   "outputs": [
    {
     "data": {
      "text/html": [
       "<div>\n",
       "<style scoped>\n",
       "    .dataframe tbody tr th:only-of-type {\n",
       "        vertical-align: middle;\n",
       "    }\n",
       "\n",
       "    .dataframe tbody tr th {\n",
       "        vertical-align: top;\n",
       "    }\n",
       "\n",
       "    .dataframe thead th {\n",
       "        text-align: right;\n",
       "    }\n",
       "</style>\n",
       "<table border=\"1\" class=\"dataframe\">\n",
       "  <thead>\n",
       "    <tr style=\"text-align: right;\">\n",
       "      <th></th>\n",
       "      <th>event_type</th>\n",
       "      <th>counts</th>\n",
       "    </tr>\n",
       "  </thead>\n",
       "  <tbody>\n",
       "    <tr>\n",
       "      <th>0</th>\n",
       "      <td>Battles</td>\n",
       "      <td>55367</td>\n",
       "    </tr>\n",
       "  </tbody>\n",
       "</table>\n",
       "</div>"
      ],
      "text/plain": [
       "  event_type  counts\n",
       "0    Battles   55367"
      ]
     },
     "execution_count": 99,
     "metadata": {},
     "output_type": "execute_result"
    }
   ],
   "source": [
    "events = df.groupby(['event_type']).size().reset_index(name='counts')\n",
    "events = events >> arrange(['counts'], ascending=False)\n",
    "events[:1]"
   ]
  },
  {
   "cell_type": "markdown",
   "id": "b979ad18",
   "metadata": {},
   "source": [
    "## 5. Which countries had the highest number of reported fatalities?"
   ]
  },
  {
   "cell_type": "code",
   "execution_count": 113,
   "id": "c47cc8c2",
   "metadata": {},
   "outputs": [
    {
     "data": {
      "text/html": [
       "<div>\n",
       "<style scoped>\n",
       "    .dataframe tbody tr th:only-of-type {\n",
       "        vertical-align: middle;\n",
       "    }\n",
       "\n",
       "    .dataframe tbody tr th {\n",
       "        vertical-align: top;\n",
       "    }\n",
       "\n",
       "    .dataframe thead th {\n",
       "        text-align: right;\n",
       "    }\n",
       "</style>\n",
       "<table border=\"1\" class=\"dataframe\">\n",
       "  <thead>\n",
       "    <tr style=\"text-align: right;\">\n",
       "      <th></th>\n",
       "      <th>country</th>\n",
       "      <th>Total</th>\n",
       "    </tr>\n",
       "  </thead>\n",
       "  <tbody>\n",
       "    <tr>\n",
       "      <th>1</th>\n",
       "      <td>Angola</td>\n",
       "      <td>143744</td>\n",
       "    </tr>\n",
       "  </tbody>\n",
       "</table>\n",
       "</div>"
      ],
      "text/plain": [
       "  country   Total\n",
       "1  Angola  143744"
      ]
     },
     "execution_count": 113,
     "metadata": {},
     "output_type": "execute_result"
    }
   ],
   "source": [
    "countries = df >> group_by(X.country) >> summarize(Total = X.fatalities.sum())\n",
    "countries = countries.sort_values(by='Total', ascending=False)\n",
    "countries[:1]"
   ]
  }
 ],
 "metadata": {
  "kernelspec": {
   "display_name": "Python 3",
   "language": "python",
   "name": "python3"
  },
  "language_info": {
   "codemirror_mode": {
    "name": "ipython",
    "version": 3
   },
   "file_extension": ".py",
   "mimetype": "text/x-python",
   "name": "python",
   "nbconvert_exporter": "python",
   "pygments_lexer": "ipython3",
   "version": "3.8.8"
  }
 },
 "nbformat": 4,
 "nbformat_minor": 5
}
